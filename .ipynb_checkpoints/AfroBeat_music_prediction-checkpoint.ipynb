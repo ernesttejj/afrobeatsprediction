{
 "cells": [
  {
   "cell_type": "markdown",
   "id": "6f4b9354-67a5-413e-9b90-b4da34b11b6d",
   "metadata": {},
   "source": [
    "SETTING UP THE NECESSARY DEPENDENCIES"
   ]
  },
  {
   "cell_type": "code",
   "execution_count": 1,
   "id": "687ff727-1b46-4146-867f-cf53c20a1358",
   "metadata": {},
   "outputs": [],
   "source": [
    "import pandas as pd\n",
    "import numpy as np\n",
    "import matplotlib.pyplot as plt\n",
    "import seaborn as sns\n",
    "\n",
    "from sklearn.model_selection import train_test_split\n",
    "from sklearn.preprocessing import StandardScaler\n",
    "from sklearn.ensemble import RandomForestClassifier, IsolationForest\n",
    "\n",
    "from sklearn.linear_model import LogisticRegression\n",
    "from sklearn.neighbors import KNeighborsClassifier\n",
    "from sklearn.neural_network import MLPClassifier\n",
    "from sklearn.tree import DecisionTreeClassifier\n",
    "from sklearn.svm import LinearSVC, SVC\n",
    "from sklearn.metrics import accuracy_score\n",
    "\n",
    "from sklearn.ensemble import RandomForestClassifier, GradientBoostingClassifier\n",
    "import warnings\n",
    "warnings.filterwarnings(action='ignore')"
   ]
  },
  {
   "cell_type": "code",
   "execution_count": 2,
   "id": "790bcdda-f956-4292-9a10-ee2d09625731",
   "metadata": {},
   "outputs": [],
   "source": [
    "# IMPORTING THE DATASET\n",
    "total_datasets = pd.read_csv('combined_datasets2.csv')"
   ]
  },
  {
   "cell_type": "code",
   "execution_count": 3,
   "id": "51efd3a7-fe0b-4ca4-8b7e-3449e4b00b2b",
   "metadata": {},
   "outputs": [
    {
     "data": {
      "text/html": [
       "<div>\n",
       "<style scoped>\n",
       "    .dataframe tbody tr th:only-of-type {\n",
       "        vertical-align: middle;\n",
       "    }\n",
       "\n",
       "    .dataframe tbody tr th {\n",
       "        vertical-align: top;\n",
       "    }\n",
       "\n",
       "    .dataframe thead th {\n",
       "        text-align: right;\n",
       "    }\n",
       "</style>\n",
       "<table border=\"1\" class=\"dataframe\">\n",
       "  <thead>\n",
       "    <tr style=\"text-align: right;\">\n",
       "      <th></th>\n",
       "      <th>Unnamed: 0.1</th>\n",
       "      <th>track_id</th>\n",
       "      <th>track_name</th>\n",
       "      <th>artist_name</th>\n",
       "      <th>popularity</th>\n",
       "      <th>danceability</th>\n",
       "      <th>energy</th>\n",
       "      <th>tempo</th>\n",
       "      <th>valence</th>\n",
       "      <th>acousticness</th>\n",
       "      <th>liveness</th>\n",
       "      <th>loudness</th>\n",
       "      <th>uri</th>\n",
       "      <th>duration_ms</th>\n",
       "      <th>instrumentalness</th>\n",
       "      <th>key</th>\n",
       "      <th>mode</th>\n",
       "      <th>speechiness</th>\n",
       "      <th>time_signature</th>\n",
       "      <th>Unnamed: 0</th>\n",
       "    </tr>\n",
       "  </thead>\n",
       "  <tbody>\n",
       "    <tr>\n",
       "      <th>2945</th>\n",
       "      <td>2945</td>\n",
       "      <td>6N8rRKxeJYiyJfu2GVsJSG</td>\n",
       "      <td>Outlaw</td>\n",
       "      <td>Victony</td>\n",
       "      <td>44</td>\n",
       "      <td>0.589</td>\n",
       "      <td>0.447</td>\n",
       "      <td>115.238</td>\n",
       "      <td>0.419</td>\n",
       "      <td>0.6720</td>\n",
       "      <td>0.1020</td>\n",
       "      <td>-7.768</td>\n",
       "      <td>spotify:track:6N8rRKxeJYiyJfu2GVsJSG</td>\n",
       "      <td>197000</td>\n",
       "      <td>0.000010</td>\n",
       "      <td>10</td>\n",
       "      <td>0</td>\n",
       "      <td>0.3520</td>\n",
       "      <td>5</td>\n",
       "      <td>2552.0</td>\n",
       "    </tr>\n",
       "    <tr>\n",
       "      <th>2946</th>\n",
       "      <td>2946</td>\n",
       "      <td>4gMXTO4f8hCe6jVhujwpUd</td>\n",
       "      <td>Ole</td>\n",
       "      <td>Tiwa Savage</td>\n",
       "      <td>31</td>\n",
       "      <td>0.800</td>\n",
       "      <td>0.801</td>\n",
       "      <td>99.936</td>\n",
       "      <td>0.684</td>\n",
       "      <td>0.5920</td>\n",
       "      <td>0.5600</td>\n",
       "      <td>-6.315</td>\n",
       "      <td>spotify:track:4gMXTO4f8hCe6jVhujwpUd</td>\n",
       "      <td>183653</td>\n",
       "      <td>0.000055</td>\n",
       "      <td>6</td>\n",
       "      <td>1</td>\n",
       "      <td>0.2140</td>\n",
       "      <td>4</td>\n",
       "      <td>2553.0</td>\n",
       "    </tr>\n",
       "    <tr>\n",
       "      <th>2947</th>\n",
       "      <td>2947</td>\n",
       "      <td>2th2KOiIausYBrbWpQMjOM</td>\n",
       "      <td>Bombay</td>\n",
       "      <td>Tiwa Savage</td>\n",
       "      <td>28</td>\n",
       "      <td>0.725</td>\n",
       "      <td>0.679</td>\n",
       "      <td>121.053</td>\n",
       "      <td>0.656</td>\n",
       "      <td>0.1230</td>\n",
       "      <td>0.2450</td>\n",
       "      <td>-5.323</td>\n",
       "      <td>spotify:track:2th2KOiIausYBrbWpQMjOM</td>\n",
       "      <td>163960</td>\n",
       "      <td>0.000029</td>\n",
       "      <td>2</td>\n",
       "      <td>1</td>\n",
       "      <td>0.3320</td>\n",
       "      <td>5</td>\n",
       "      <td>2554.0</td>\n",
       "    </tr>\n",
       "    <tr>\n",
       "      <th>2948</th>\n",
       "      <td>2948</td>\n",
       "      <td>0mDRuZmReEm6DquPLJlcEm</td>\n",
       "      <td>Oleku (feat. Brymo)</td>\n",
       "      <td>Ice Prince</td>\n",
       "      <td>45</td>\n",
       "      <td>0.544</td>\n",
       "      <td>0.730</td>\n",
       "      <td>162.112</td>\n",
       "      <td>0.751</td>\n",
       "      <td>0.3440</td>\n",
       "      <td>0.1400</td>\n",
       "      <td>-4.299</td>\n",
       "      <td>spotify:track:0mDRuZmReEm6DquPLJlcEm</td>\n",
       "      <td>291364</td>\n",
       "      <td>0.000001</td>\n",
       "      <td>1</td>\n",
       "      <td>0</td>\n",
       "      <td>0.1440</td>\n",
       "      <td>5</td>\n",
       "      <td>2555.0</td>\n",
       "    </tr>\n",
       "    <tr>\n",
       "      <th>2949</th>\n",
       "      <td>2949</td>\n",
       "      <td>6p0M9uwUKqn0ApceP3TkBy</td>\n",
       "      <td>Single &amp; Searching</td>\n",
       "      <td>Yemi Alade</td>\n",
       "      <td>34</td>\n",
       "      <td>0.804</td>\n",
       "      <td>0.837</td>\n",
       "      <td>125.007</td>\n",
       "      <td>0.735</td>\n",
       "      <td>0.0548</td>\n",
       "      <td>0.0535</td>\n",
       "      <td>-5.122</td>\n",
       "      <td>spotify:track:6p0M9uwUKqn0ApceP3TkBy</td>\n",
       "      <td>219330</td>\n",
       "      <td>0.002170</td>\n",
       "      <td>6</td>\n",
       "      <td>0</td>\n",
       "      <td>0.0592</td>\n",
       "      <td>4</td>\n",
       "      <td>2556.0</td>\n",
       "    </tr>\n",
       "  </tbody>\n",
       "</table>\n",
       "</div>"
      ],
      "text/plain": [
       "      Unnamed: 0.1                track_id           track_name  artist_name  \\\n",
       "2945          2945  6N8rRKxeJYiyJfu2GVsJSG               Outlaw      Victony   \n",
       "2946          2946  4gMXTO4f8hCe6jVhujwpUd                  Ole  Tiwa Savage   \n",
       "2947          2947  2th2KOiIausYBrbWpQMjOM               Bombay  Tiwa Savage   \n",
       "2948          2948  0mDRuZmReEm6DquPLJlcEm  Oleku (feat. Brymo)   Ice Prince   \n",
       "2949          2949  6p0M9uwUKqn0ApceP3TkBy   Single & Searching   Yemi Alade   \n",
       "\n",
       "      popularity  danceability  energy    tempo  valence  acousticness  \\\n",
       "2945          44         0.589   0.447  115.238    0.419        0.6720   \n",
       "2946          31         0.800   0.801   99.936    0.684        0.5920   \n",
       "2947          28         0.725   0.679  121.053    0.656        0.1230   \n",
       "2948          45         0.544   0.730  162.112    0.751        0.3440   \n",
       "2949          34         0.804   0.837  125.007    0.735        0.0548   \n",
       "\n",
       "      liveness  loudness                                   uri  duration_ms  \\\n",
       "2945    0.1020    -7.768  spotify:track:6N8rRKxeJYiyJfu2GVsJSG       197000   \n",
       "2946    0.5600    -6.315  spotify:track:4gMXTO4f8hCe6jVhujwpUd       183653   \n",
       "2947    0.2450    -5.323  spotify:track:2th2KOiIausYBrbWpQMjOM       163960   \n",
       "2948    0.1400    -4.299  spotify:track:0mDRuZmReEm6DquPLJlcEm       291364   \n",
       "2949    0.0535    -5.122  spotify:track:6p0M9uwUKqn0ApceP3TkBy       219330   \n",
       "\n",
       "      instrumentalness  key  mode  speechiness  time_signature  Unnamed: 0  \n",
       "2945          0.000010   10     0       0.3520               5      2552.0  \n",
       "2946          0.000055    6     1       0.2140               4      2553.0  \n",
       "2947          0.000029    2     1       0.3320               5      2554.0  \n",
       "2948          0.000001    1     0       0.1440               5      2555.0  \n",
       "2949          0.002170    6     0       0.0592               4      2556.0  "
      ]
     },
     "execution_count": 3,
     "metadata": {},
     "output_type": "execute_result"
    }
   ],
   "source": [
    "#This shows the last five datapoints from the dataset\n",
    "total_datasets.tail()"
   ]
  },
  {
   "cell_type": "code",
   "execution_count": 4,
   "id": "34ba78a4-580a-48f9-9fc6-19c3e21ab9e8",
   "metadata": {},
   "outputs": [
    {
     "name": "stdout",
     "output_type": "stream",
     "text": [
      "(2950, 20)\n"
     ]
    }
   ],
   "source": [
    "print(total_datasets.shape) # Checking the shape of the data\n",
    "\n",
    "datasets = total_datasets.copy()"
   ]
  },
  {
   "cell_type": "code",
   "execution_count": 5,
   "id": "bebd6215-406e-4e63-a3a9-28a1ed2c5fab",
   "metadata": {},
   "outputs": [],
   "source": [
    "# Droping unwanted columns \n",
    "datasets = datasets.drop(['track_id', 'track_name', 'artist_name', 'uri', 'Unnamed: 0.1', 'Unnamed: 0'], axis=1)"
   ]
  },
  {
   "cell_type": "code",
   "execution_count": 6,
   "id": "2cd58b05-35eb-49f0-9031-b831bb22ca0e",
   "metadata": {},
   "outputs": [],
   "source": [
    "# Creating another column called hit and setting values to popularity greater than 65 as 1 while less as 0\n",
    "# 1 implies that the song is a hit while 0 implies it is not\n",
    "datasets['hit'] = datasets['popularity'].apply(lambda x: 1 if x > 65 else 0)"
   ]
  },
  {
   "cell_type": "code",
   "execution_count": 7,
   "id": "bebc4e5f-fab8-4df6-880e-263b710440c3",
   "metadata": {},
   "outputs": [],
   "source": [
    "# dict(datasets['popularity'].value_counts())"
   ]
  },
  {
   "cell_type": "code",
   "execution_count": 8,
   "id": "fe4abf81-daf4-441d-a1a0-29ab019a0b76",
   "metadata": {},
   "outputs": [
    {
     "data": {
      "text/plain": [
       "0    2719\n",
       "1     231\n",
       "Name: hit, dtype: int64"
      ]
     },
     "execution_count": 8,
     "metadata": {},
     "output_type": "execute_result"
    }
   ],
   "source": [
    "datasets.hit.value_counts() # Checking the value counts in the hit column.... this gives how many values of zeros and ones"
   ]
  },
  {
   "cell_type": "code",
   "execution_count": 9,
   "id": "48dfab85-abe9-4a8d-aff6-3af1d4952413",
   "metadata": {},
   "outputs": [
    {
     "name": "stderr",
     "output_type": "stream",
     "text": [
      "No artists with labels found to put in legend.  Note that artists whose label start with an underscore are ignored when legend() is called with no argument.\n"
     ]
    },
    {
     "data": {
      "text/plain": [
       "<matplotlib.legend.Legend at 0x1fca956bf10>"
      ]
     },
     "execution_count": 9,
     "metadata": {},
     "output_type": "execute_result"
    },
    {
     "data": {
      "image/png": "[encoded data removed]",
      "text/plain": [
       "<Figure size 640x480 with 1 Axes>"
      ]
     },
     "metadata": {},
     "output_type": "display_data"
    }
   ],
   "source": [
    "# ploting the value counts\n",
    "import seaborn as sns\n",
    "\n",
    "ax = sns.countplot(x='hit', data=datasets, palette='viridis')\n",
    "ax.set_xticklabels(['Non-Hit', 'Hit'])\n",
    "\n",
    "plt.xlabel('Categories')\n",
    "plt.ylabel('Count')\n",
    "plt.title('Imbalance Visualization')\n",
    "\n",
    "#Adding legend\n",
    "\n",
    "plt.legend()"
   ]
  },
  {
   "cell_type": "markdown",
   "id": "af16771f-8f3c-45a8-bc3d-901ff706ef1c",
   "metadata": {},
   "source": [
    "### EXPLORATORY DATA ANALYSIS"
   ]
  },
  {
   "cell_type": "code",
   "execution_count": 10,
   "id": "ac82c209-037d-4b4a-afd2-5250e760d350",
   "metadata": {},
   "outputs": [
    {
     "data": {
      "text/plain": [
       "\"\\nThe result is plotted. you can see that the plot is in upward direction, also observer the line that cut through the dots (which are the datapoints) all are in one direction.\\nThis shows that there is a very high positive correlation between loudness and energy. \\nIf the energy increases, the loudness of the song increases and similarly, if the song's loudness decreases, the energy of the track also decreases.\\n\""
      ]
     },
     "execution_count": 10,
     "metadata": {},
     "output_type": "execute_result"
    },
    {
     "data": {
      "image/png": "[encoded data removed]",
      "text/plain": [
       "<Figure size 700x600 with 1 Axes>"
      ]
     },
     "metadata": {},
     "output_type": "display_data"
    }
   ],
   "source": [
    "## Create a Regression Plot Between Loudness and Energy. Let’s Plot It  in the Form of a Regression Line.\n",
    "plt.figure(figsize=(7, 6))\n",
    "sns.regplot(data=datasets, y=\"loudness\", x=\"energy\", color='c').set(title=\"Loudness vs Energy Corrolation\")\n",
    "\n",
    "\"\"\"\n",
    "The result is plotted. you can see that the plot is in upward direction, also observer the line that cut through the dots (which are the datapoints) all are in one direction.\n",
    "This shows that there is a very high positive correlation between loudness and energy. \n",
    "If the energy increases, the loudness of the song increases and similarly, if the song's loudness decreases, the energy of the track also decreases.\n",
    "\"\"\""
   ]
  },
  {
   "cell_type": "markdown",
   "id": "755e70c4-0872-446d-95b5-5de01041aa35",
   "metadata": {},
   "source": [
    "## we can also plot between the correlation between the popularity and the instrumentalness"
   ]
  },
  {
   "cell_type": "code",
   "execution_count": 11,
   "id": "a55b18d2-d6d3-49c9-bf62-f0f586e9e1c2",
   "metadata": {},
   "outputs": [
    {
     "data": {
      "text/plain": [
       "'\\nHere, you can see the red color regression line is in downward direction, \\nwhich denotes if the instrumentalness of the song increases, the popularity decreases and similarly, \\nif the popularity increases, the instrumentalness decreases.\\n'"
      ]
     },
     "execution_count": 11,
     "metadata": {},
     "output_type": "execute_result"
    },
    {
     "data": {
      "image/png": "[encoded data removed]",
      "text/plain": [
       "<Figure size 700x600 with 1 Axes>"
      ]
     },
     "metadata": {},
     "output_type": "display_data"
    }
   ],
   "source": [
    "plt.figure(figsize=(7, 6))\n",
    "sns.regplot(data=datasets, y=\"popularity\", x=\"instrumentalness\", color='r').set(title=\"popularity vs instrumentalness Corrolation\")\n",
    "\n",
    "\"\"\"\n",
    "Here, you can see the red color regression line is in downward direction, \n",
    "which denotes if the instrumentalness of the song increases, the popularity decreases and similarly, \n",
    "if the popularity increases, the instrumentalness decreases.\n",
    "\"\"\""
   ]
  },
  {
   "cell_type": "code",
   "execution_count": 12,
   "id": "e0dea4c1-db14-427a-8395-33eba6b408c2",
   "metadata": {},
   "outputs": [
    {
     "data": {
      "text/plain": [
       "'\\nAfter running the piece of code, we got our correlation map. On the right side, you can see a scale ranging from -1 to +1. \\nHere -1 denotes the variables that have the least or negative correlation, \\nwhile the values above 0.0 denote the variables with a positive correlation. \\n'"
      ]
     },
     "execution_count": 12,
     "metadata": {},
     "output_type": "execute_result"
    },
    {
     "data": {
      "image/png": "[encoded data removed]",
      "text/plain": [
       "<Figure size 1400x600 with 2 Axes>"
      ]
     },
     "metadata": {},
     "output_type": "display_data"
    }
   ],
   "source": [
    "plt.figure(figsize=(14, 6))\n",
    "sns.heatmap(datasets.corr(),annot = True, vmin=-1, vmax=1, center=0, linewidth=1)\n",
    "\n",
    "\"\"\"\n",
    "After running the piece of code, we got our correlation map. On the right side, you can see a scale ranging from -1 to +1. \n",
    "Here -1 denotes the variables that have the least or negative correlation, \n",
    "while the values above 0.0 denote the variables with a positive correlation. \n",
    "\"\"\""
   ]
  },
  {
   "cell_type": "code",
   "execution_count": 13,
   "id": "84637245-c9af-4524-8f72-38cf00c0f122",
   "metadata": {},
   "outputs": [],
   "source": [
    "# Having seen the value counts, there arise a need to handle imbalance in the dataset as seen\n",
    "\n",
    "from imblearn.over_sampling import SMOTE\n",
    "\n",
    "# Resampling the minority class. The strategy can be changed as required.\n",
    "sm = SMOTE(sampling_strategy='minority', random_state=42)\n",
    "\n",
    "# Fit the model to generate the data.\n",
    "oversampled_X, oversampled_Y = sm.fit_resample(datasets.drop('hit', axis=1), datasets['hit'])\n",
    "new_datasets = pd.concat([pd.DataFrame(oversampled_Y), pd.DataFrame(oversampled_X)], axis=1)"
   ]
  },
  {
   "cell_type": "code",
   "execution_count": 14,
   "id": "ec1cc5c8-6fd1-4a99-a2ba-c29d27d418b4",
   "metadata": {},
   "outputs": [
    {
     "data": {
      "text/plain": [
       "1    2719\n",
       "0    2719\n",
       "Name: hit, dtype: int64"
      ]
     },
     "execution_count": 14,
     "metadata": {},
     "output_type": "execute_result"
    }
   ],
   "source": [
    "new_datasets['hit'].value_counts()"
   ]
  },
  {
   "cell_type": "code",
   "execution_count": 15,
   "id": "8cd01da4-95b2-43fc-82da-614324453703",
   "metadata": {},
   "outputs": [
    {
     "ename": "NameError",
     "evalue": "name 'non_hit' is not defined",
     "output_type": "error",
     "traceback": [
      "\u001b[1;31m---------------------------------------------------------------------------\u001b[0m",
      "\u001b[1;31mNameError\u001b[0m                                 Traceback (most recent call last)",
      "Cell \u001b[1;32mIn[15], line 5\u001b[0m\n\u001b[0;32m      1\u001b[0m \u001b[38;5;66;03m# non_hit_sample = non_hit.sample(n=353)\u001b[39;00m\n\u001b[0;32m      2\u001b[0m \n\u001b[0;32m      3\u001b[0m \u001b[38;5;66;03m# non_hit_sample.shape\u001b[39;00m\n\u001b[1;32m----> 5\u001b[0m non_hit_sample \u001b[38;5;241m=\u001b[39m \u001b[43mnon_hit\u001b[49m\u001b[38;5;241m.\u001b[39msample(n\u001b[38;5;241m=\u001b[39m\u001b[38;5;241m353\u001b[39m)\n\u001b[0;32m      7\u001b[0m non_hit_sample\u001b[38;5;241m.\u001b[39mshape\n",
      "\u001b[1;31mNameError\u001b[0m: name 'non_hit' is not defined"
     ]
    }
   ],
   "source": [
    "# non_hit_sample = non_hit.sample(n=353)\n",
    "\n",
    "# non_hit_sample.shape\n",
    "\n",
    "non_hit_sample = non_hit.sample(n=353)\n",
    "\n",
    "non_hit_sample.shape"
   ]
  },
  {
   "cell_type": "code",
   "execution_count": null,
   "id": "644fd5b6-0bc1-4fa6-9287-3628850b100e",
   "metadata": {},
   "outputs": [],
   "source": [
    "new_dataset = pd.concat([non_hit_sample, hit], axis=0)"
   ]
  },
  {
   "cell_type": "code",
   "execution_count": 18,
   "id": "5332df7b-95e2-4777-8229-c298a2efc58e",
   "metadata": {},
   "outputs": [
    {
     "data": {
      "text/html": [
       "<div>\n",
       "<style scoped>\n",
       "    .dataframe tbody tr th:only-of-type {\n",
       "        vertical-align: middle;\n",
       "    }\n",
       "\n",
       "    .dataframe tbody tr th {\n",
       "        vertical-align: top;\n",
       "    }\n",
       "\n",
       "    .dataframe thead th {\n",
       "        text-align: right;\n",
       "    }\n",
       "</style>\n",
       "<table border=\"1\" class=\"dataframe\">\n",
       "  <thead>\n",
       "    <tr style=\"text-align: right;\">\n",
       "      <th></th>\n",
       "      <th>hit</th>\n",
       "      <th>popularity</th>\n",
       "      <th>danceability</th>\n",
       "      <th>energy</th>\n",
       "      <th>tempo</th>\n",
       "      <th>valence</th>\n",
       "      <th>acousticness</th>\n",
       "      <th>liveness</th>\n",
       "      <th>loudness</th>\n",
       "      <th>duration_ms</th>\n",
       "      <th>instrumentalness</th>\n",
       "      <th>key</th>\n",
       "      <th>mode</th>\n",
       "      <th>speechiness</th>\n",
       "      <th>time_signature</th>\n",
       "    </tr>\n",
       "  </thead>\n",
       "  <tbody>\n",
       "    <tr>\n",
       "      <th>5433</th>\n",
       "      <td>1</td>\n",
       "      <td>68</td>\n",
       "      <td>0.914000</td>\n",
       "      <td>0.505000</td>\n",
       "      <td>102.937000</td>\n",
       "      <td>0.540000</td>\n",
       "      <td>0.227000</td>\n",
       "      <td>0.132000</td>\n",
       "      <td>-6.770000</td>\n",
       "      <td>176453</td>\n",
       "      <td>0.000003</td>\n",
       "      <td>9</td>\n",
       "      <td>0</td>\n",
       "      <td>0.310000</td>\n",
       "      <td>4</td>\n",
       "    </tr>\n",
       "    <tr>\n",
       "      <th>5434</th>\n",
       "      <td>1</td>\n",
       "      <td>70</td>\n",
       "      <td>0.734385</td>\n",
       "      <td>0.637558</td>\n",
       "      <td>105.574919</td>\n",
       "      <td>0.610252</td>\n",
       "      <td>0.333351</td>\n",
       "      <td>0.147056</td>\n",
       "      <td>-8.243613</td>\n",
       "      <td>147708</td>\n",
       "      <td>0.054382</td>\n",
       "      <td>6</td>\n",
       "      <td>0</td>\n",
       "      <td>0.220211</td>\n",
       "      <td>4</td>\n",
       "    </tr>\n",
       "    <tr>\n",
       "      <th>5435</th>\n",
       "      <td>1</td>\n",
       "      <td>69</td>\n",
       "      <td>0.797531</td>\n",
       "      <td>0.661275</td>\n",
       "      <td>101.284046</td>\n",
       "      <td>0.840382</td>\n",
       "      <td>0.475652</td>\n",
       "      <td>0.096834</td>\n",
       "      <td>-7.105896</td>\n",
       "      <td>158229</td>\n",
       "      <td>0.000039</td>\n",
       "      <td>9</td>\n",
       "      <td>0</td>\n",
       "      <td>0.129287</td>\n",
       "      <td>4</td>\n",
       "    </tr>\n",
       "    <tr>\n",
       "      <th>5436</th>\n",
       "      <td>1</td>\n",
       "      <td>76</td>\n",
       "      <td>0.830839</td>\n",
       "      <td>0.716382</td>\n",
       "      <td>112.892020</td>\n",
       "      <td>0.687325</td>\n",
       "      <td>0.108897</td>\n",
       "      <td>0.100132</td>\n",
       "      <td>-6.512995</td>\n",
       "      <td>212900</td>\n",
       "      <td>0.000960</td>\n",
       "      <td>9</td>\n",
       "      <td>0</td>\n",
       "      <td>0.043070</td>\n",
       "      <td>4</td>\n",
       "    </tr>\n",
       "    <tr>\n",
       "      <th>5437</th>\n",
       "      <td>1</td>\n",
       "      <td>68</td>\n",
       "      <td>0.729005</td>\n",
       "      <td>0.685372</td>\n",
       "      <td>103.351233</td>\n",
       "      <td>0.620179</td>\n",
       "      <td>0.332932</td>\n",
       "      <td>0.146543</td>\n",
       "      <td>-7.727853</td>\n",
       "      <td>179152</td>\n",
       "      <td>0.000332</td>\n",
       "      <td>3</td>\n",
       "      <td>0</td>\n",
       "      <td>0.090435</td>\n",
       "      <td>4</td>\n",
       "    </tr>\n",
       "  </tbody>\n",
       "</table>\n",
       "</div>"
      ],
      "text/plain": [
       "      hit  popularity  danceability    energy       tempo   valence  \\\n",
       "5433    1          68      0.914000  0.505000  102.937000  0.540000   \n",
       "5434    1          70      0.734385  0.637558  105.574919  0.610252   \n",
       "5435    1          69      0.797531  0.661275  101.284046  0.840382   \n",
       "5436    1          76      0.830839  0.716382  112.892020  0.687325   \n",
       "5437    1          68      0.729005  0.685372  103.351233  0.620179   \n",
       "\n",
       "      acousticness  liveness  loudness  duration_ms  instrumentalness  key  \\\n",
       "5433      0.227000  0.132000 -6.770000       176453          0.000003    9   \n",
       "5434      0.333351  0.147056 -8.243613       147708          0.054382    6   \n",
       "5435      0.475652  0.096834 -7.105896       158229          0.000039    9   \n",
       "5436      0.108897  0.100132 -6.512995       212900          0.000960    9   \n",
       "5437      0.332932  0.146543 -7.727853       179152          0.000332    3   \n",
       "\n",
       "      mode  speechiness  time_signature  \n",
       "5433     0     0.310000               4  \n",
       "5434     0     0.220211               4  \n",
       "5435     0     0.129287               4  \n",
       "5436     0     0.043070               4  \n",
       "5437     0     0.090435               4  "
      ]
     },
     "execution_count": 18,
     "metadata": {},
     "output_type": "execute_result"
    }
   ],
   "source": [
    "new_datasets.tail()"
   ]
  },
  {
   "cell_type": "code",
   "execution_count": 19,
   "id": "d52895a9-d0f6-4604-8c1e-4f4dcb26bec6",
   "metadata": {},
   "outputs": [
    {
     "data": {
      "text/html": [
       "<div>\n",
       "<style scoped>\n",
       "    .dataframe tbody tr th:only-of-type {\n",
       "        vertical-align: middle;\n",
       "    }\n",
       "\n",
       "    .dataframe tbody tr th {\n",
       "        vertical-align: top;\n",
       "    }\n",
       "\n",
       "    .dataframe thead th {\n",
       "        text-align: right;\n",
       "    }\n",
       "</style>\n",
       "<table border=\"1\" class=\"dataframe\">\n",
       "  <thead>\n",
       "    <tr style=\"text-align: right;\">\n",
       "      <th></th>\n",
       "      <th>hit</th>\n",
       "      <th>popularity</th>\n",
       "      <th>danceability</th>\n",
       "      <th>energy</th>\n",
       "      <th>tempo</th>\n",
       "      <th>valence</th>\n",
       "      <th>acousticness</th>\n",
       "      <th>liveness</th>\n",
       "      <th>loudness</th>\n",
       "      <th>duration_ms</th>\n",
       "      <th>instrumentalness</th>\n",
       "      <th>key</th>\n",
       "      <th>mode</th>\n",
       "      <th>speechiness</th>\n",
       "      <th>time_signature</th>\n",
       "    </tr>\n",
       "  </thead>\n",
       "  <tbody>\n",
       "    <tr>\n",
       "      <th>5433</th>\n",
       "      <td>1</td>\n",
       "      <td>68</td>\n",
       "      <td>0.914000</td>\n",
       "      <td>0.505000</td>\n",
       "      <td>102.937000</td>\n",
       "      <td>0.540000</td>\n",
       "      <td>0.227000</td>\n",
       "      <td>0.132000</td>\n",
       "      <td>-6.770000</td>\n",
       "      <td>176453</td>\n",
       "      <td>0.000003</td>\n",
       "      <td>9</td>\n",
       "      <td>0</td>\n",
       "      <td>0.310000</td>\n",
       "      <td>4</td>\n",
       "    </tr>\n",
       "    <tr>\n",
       "      <th>5434</th>\n",
       "      <td>1</td>\n",
       "      <td>70</td>\n",
       "      <td>0.734385</td>\n",
       "      <td>0.637558</td>\n",
       "      <td>105.574919</td>\n",
       "      <td>0.610252</td>\n",
       "      <td>0.333351</td>\n",
       "      <td>0.147056</td>\n",
       "      <td>-8.243613</td>\n",
       "      <td>147708</td>\n",
       "      <td>0.054382</td>\n",
       "      <td>6</td>\n",
       "      <td>0</td>\n",
       "      <td>0.220211</td>\n",
       "      <td>4</td>\n",
       "    </tr>\n",
       "    <tr>\n",
       "      <th>5435</th>\n",
       "      <td>1</td>\n",
       "      <td>69</td>\n",
       "      <td>0.797531</td>\n",
       "      <td>0.661275</td>\n",
       "      <td>101.284046</td>\n",
       "      <td>0.840382</td>\n",
       "      <td>0.475652</td>\n",
       "      <td>0.096834</td>\n",
       "      <td>-7.105896</td>\n",
       "      <td>158229</td>\n",
       "      <td>0.000039</td>\n",
       "      <td>9</td>\n",
       "      <td>0</td>\n",
       "      <td>0.129287</td>\n",
       "      <td>4</td>\n",
       "    </tr>\n",
       "    <tr>\n",
       "      <th>5436</th>\n",
       "      <td>1</td>\n",
       "      <td>76</td>\n",
       "      <td>0.830839</td>\n",
       "      <td>0.716382</td>\n",
       "      <td>112.892020</td>\n",
       "      <td>0.687325</td>\n",
       "      <td>0.108897</td>\n",
       "      <td>0.100132</td>\n",
       "      <td>-6.512995</td>\n",
       "      <td>212900</td>\n",
       "      <td>0.000960</td>\n",
       "      <td>9</td>\n",
       "      <td>0</td>\n",
       "      <td>0.043070</td>\n",
       "      <td>4</td>\n",
       "    </tr>\n",
       "    <tr>\n",
       "      <th>5437</th>\n",
       "      <td>1</td>\n",
       "      <td>68</td>\n",
       "      <td>0.729005</td>\n",
       "      <td>0.685372</td>\n",
       "      <td>103.351233</td>\n",
       "      <td>0.620179</td>\n",
       "      <td>0.332932</td>\n",
       "      <td>0.146543</td>\n",
       "      <td>-7.727853</td>\n",
       "      <td>179152</td>\n",
       "      <td>0.000332</td>\n",
       "      <td>3</td>\n",
       "      <td>0</td>\n",
       "      <td>0.090435</td>\n",
       "      <td>4</td>\n",
       "    </tr>\n",
       "  </tbody>\n",
       "</table>\n",
       "</div>"
      ],
      "text/plain": [
       "      hit  popularity  danceability    energy       tempo   valence  \\\n",
       "5433    1          68      0.914000  0.505000  102.937000  0.540000   \n",
       "5434    1          70      0.734385  0.637558  105.574919  0.610252   \n",
       "5435    1          69      0.797531  0.661275  101.284046  0.840382   \n",
       "5436    1          76      0.830839  0.716382  112.892020  0.687325   \n",
       "5437    1          68      0.729005  0.685372  103.351233  0.620179   \n",
       "\n",
       "      acousticness  liveness  loudness  duration_ms  instrumentalness  key  \\\n",
       "5433      0.227000  0.132000 -6.770000       176453          0.000003    9   \n",
       "5434      0.333351  0.147056 -8.243613       147708          0.054382    6   \n",
       "5435      0.475652  0.096834 -7.105896       158229          0.000039    9   \n",
       "5436      0.108897  0.100132 -6.512995       212900          0.000960    9   \n",
       "5437      0.332932  0.146543 -7.727853       179152          0.000332    3   \n",
       "\n",
       "      mode  speechiness  time_signature  \n",
       "5433     0     0.310000               4  \n",
       "5434     0     0.220211               4  \n",
       "5435     0     0.129287               4  \n",
       "5436     0     0.043070               4  \n",
       "5437     0     0.090435               4  "
      ]
     },
     "execution_count": 19,
     "metadata": {},
     "output_type": "execute_result"
    }
   ],
   "source": [
    "new_datasets.tail()"
   ]
  },
  {
   "cell_type": "code",
   "execution_count": 21,
   "id": "6775e77c-4ea0-4856-99ad-9593df14699d",
   "metadata": {},
   "outputs": [
    {
     "data": {
      "text/plain": [
       "(5438, 15)"
      ]
     },
     "execution_count": 21,
     "metadata": {},
     "output_type": "execute_result"
    }
   ],
   "source": [
    "new_datasets.shape"
   ]
  },
  {
   "cell_type": "code",
   "execution_count": 22,
   "id": "197e228b-1dac-4200-af42-d0d19b09eef2",
   "metadata": {},
   "outputs": [
    {
     "ename": "NameError",
     "evalue": "name 'non_hit_sample' is not defined",
     "output_type": "error",
     "traceback": [
      "\u001b[1;31m---------------------------------------------------------------------------\u001b[0m",
      "\u001b[1;31mNameError\u001b[0m                                 Traceback (most recent call last)",
      "Cell \u001b[1;32mIn[22], line 1\u001b[0m\n\u001b[1;32m----> 1\u001b[0m new_datasets \u001b[38;5;241m=\u001b[39m pd\u001b[38;5;241m.\u001b[39mconcat([\u001b[43mnon_hit_sample\u001b[49m, non_hit], axis\u001b[38;5;241m=\u001b[39m\u001b[38;5;241m0\u001b[39m)\n",
      "\u001b[1;31mNameError\u001b[0m: name 'non_hit_sample' is not defined"
     ]
    }
   ],
   "source": [
    "new_datasets = pd.concat([non_hit_sample, non_hit], axis=0)"
   ]
  },
  {
   "cell_type": "code",
   "execution_count": 23,
   "id": "bf35f9f1-dfa1-40c4-b705-5826790cd6f1",
   "metadata": {},
   "outputs": [
    {
     "ename": "NameError",
     "evalue": "name 'non_hit_sample' is not defined",
     "output_type": "error",
     "traceback": [
      "\u001b[1;31m---------------------------------------------------------------------------\u001b[0m",
      "\u001b[1;31mNameError\u001b[0m                                 Traceback (most recent call last)",
      "Cell \u001b[1;32mIn[23], line 1\u001b[0m\n\u001b[1;32m----> 1\u001b[0m \u001b[43mnon_hit_sample\u001b[49m\n",
      "\u001b[1;31mNameError\u001b[0m: name 'non_hit_sample' is not defined"
     ]
    }
   ],
   "source": [
    "non_hit_sample"
   ]
  },
  {
   "cell_type": "code",
   "execution_count": 609,
   "id": "b6abff34-4403-4d08-a9ee-767033f39be7",
   "metadata": {},
   "outputs": [
    {
     "data": {
      "text/html": [
       "<div>\n",
       "<style scoped>\n",
       "    .dataframe tbody tr th:only-of-type {\n",
       "        vertical-align: middle;\n",
       "    }\n",
       "\n",
       "    .dataframe tbody tr th {\n",
       "        vertical-align: top;\n",
       "    }\n",
       "\n",
       "    .dataframe thead th {\n",
       "        text-align: right;\n",
       "    }\n",
       "</style>\n",
       "<table border=\"1\" class=\"dataframe\">\n",
       "  <thead>\n",
       "    <tr style=\"text-align: right;\">\n",
       "      <th></th>\n",
       "      <th>hit</th>\n",
       "      <th>popularity</th>\n",
       "      <th>danceability</th>\n",
       "      <th>energy</th>\n",
       "      <th>tempo</th>\n",
       "      <th>valence</th>\n",
       "      <th>acousticness</th>\n",
       "      <th>liveness</th>\n",
       "      <th>loudness</th>\n",
       "      <th>duration_ms</th>\n",
       "      <th>instrumentalness</th>\n",
       "      <th>key</th>\n",
       "      <th>mode</th>\n",
       "      <th>speechiness</th>\n",
       "      <th>time_signature</th>\n",
       "    </tr>\n",
       "  </thead>\n",
       "  <tbody>\n",
       "    <tr>\n",
       "      <th>5433</th>\n",
       "      <td>1</td>\n",
       "      <td>68</td>\n",
       "      <td>0.914000</td>\n",
       "      <td>0.505000</td>\n",
       "      <td>102.937000</td>\n",
       "      <td>0.540000</td>\n",
       "      <td>0.227000</td>\n",
       "      <td>0.132000</td>\n",
       "      <td>-6.770000</td>\n",
       "      <td>176453</td>\n",
       "      <td>0.000003</td>\n",
       "      <td>9</td>\n",
       "      <td>0</td>\n",
       "      <td>0.310000</td>\n",
       "      <td>4</td>\n",
       "    </tr>\n",
       "    <tr>\n",
       "      <th>5434</th>\n",
       "      <td>1</td>\n",
       "      <td>70</td>\n",
       "      <td>0.734385</td>\n",
       "      <td>0.637558</td>\n",
       "      <td>105.574919</td>\n",
       "      <td>0.610252</td>\n",
       "      <td>0.333351</td>\n",
       "      <td>0.147056</td>\n",
       "      <td>-8.243613</td>\n",
       "      <td>147708</td>\n",
       "      <td>0.054382</td>\n",
       "      <td>6</td>\n",
       "      <td>0</td>\n",
       "      <td>0.220211</td>\n",
       "      <td>4</td>\n",
       "    </tr>\n",
       "    <tr>\n",
       "      <th>5435</th>\n",
       "      <td>1</td>\n",
       "      <td>69</td>\n",
       "      <td>0.797531</td>\n",
       "      <td>0.661275</td>\n",
       "      <td>101.284046</td>\n",
       "      <td>0.840382</td>\n",
       "      <td>0.475652</td>\n",
       "      <td>0.096834</td>\n",
       "      <td>-7.105896</td>\n",
       "      <td>158229</td>\n",
       "      <td>0.000039</td>\n",
       "      <td>9</td>\n",
       "      <td>0</td>\n",
       "      <td>0.129287</td>\n",
       "      <td>4</td>\n",
       "    </tr>\n",
       "    <tr>\n",
       "      <th>5436</th>\n",
       "      <td>1</td>\n",
       "      <td>76</td>\n",
       "      <td>0.830839</td>\n",
       "      <td>0.716382</td>\n",
       "      <td>112.892020</td>\n",
       "      <td>0.687325</td>\n",
       "      <td>0.108897</td>\n",
       "      <td>0.100132</td>\n",
       "      <td>-6.512995</td>\n",
       "      <td>212900</td>\n",
       "      <td>0.000960</td>\n",
       "      <td>9</td>\n",
       "      <td>0</td>\n",
       "      <td>0.043070</td>\n",
       "      <td>4</td>\n",
       "    </tr>\n",
       "    <tr>\n",
       "      <th>5437</th>\n",
       "      <td>1</td>\n",
       "      <td>68</td>\n",
       "      <td>0.729005</td>\n",
       "      <td>0.685372</td>\n",
       "      <td>103.351233</td>\n",
       "      <td>0.620179</td>\n",
       "      <td>0.332932</td>\n",
       "      <td>0.146543</td>\n",
       "      <td>-7.727853</td>\n",
       "      <td>179152</td>\n",
       "      <td>0.000332</td>\n",
       "      <td>3</td>\n",
       "      <td>0</td>\n",
       "      <td>0.090435</td>\n",
       "      <td>4</td>\n",
       "    </tr>\n",
       "  </tbody>\n",
       "</table>\n",
       "</div>"
      ],
      "text/plain": [
       "      hit  popularity  danceability    energy       tempo   valence  \\\n",
       "5433    1          68      0.914000  0.505000  102.937000  0.540000   \n",
       "5434    1          70      0.734385  0.637558  105.574919  0.610252   \n",
       "5435    1          69      0.797531  0.661275  101.284046  0.840382   \n",
       "5436    1          76      0.830839  0.716382  112.892020  0.687325   \n",
       "5437    1          68      0.729005  0.685372  103.351233  0.620179   \n",
       "\n",
       "      acousticness  liveness  loudness  duration_ms  instrumentalness  key  \\\n",
       "5433      0.227000  0.132000 -6.770000       176453          0.000003    9   \n",
       "5434      0.333351  0.147056 -8.243613       147708          0.054382    6   \n",
       "5435      0.475652  0.096834 -7.105896       158229          0.000039    9   \n",
       "5436      0.108897  0.100132 -6.512995       212900          0.000960    9   \n",
       "5437      0.332932  0.146543 -7.727853       179152          0.000332    3   \n",
       "\n",
       "      mode  speechiness  time_signature  \n",
       "5433     0     0.310000               4  \n",
       "5434     0     0.220211               4  \n",
       "5435     0     0.129287               4  \n",
       "5436     0     0.043070               4  \n",
       "5437     0     0.090435               4  "
      ]
     },
     "execution_count": 609,
     "metadata": {},
     "output_type": "execute_result"
    }
   ],
   "source": [
    "new_datasets.tail()"
   ]
  },
  {
   "cell_type": "code",
   "execution_count": 24,
   "id": "568441ed-5f93-4351-b395-6b59ec00d149",
   "metadata": {},
   "outputs": [
    {
     "data": {
      "text/plain": [
       "1    2719\n",
       "0    2719\n",
       "Name: hit, dtype: int64"
      ]
     },
     "execution_count": 24,
     "metadata": {},
     "output_type": "execute_result"
    }
   ],
   "source": [
    "new_datasets['hit'].value_counts()"
   ]
  },
  {
   "cell_type": "code",
   "execution_count": 25,
   "id": "bc5297d3-fc0f-4829-b73d-ab6210a60f6b",
   "metadata": {},
   "outputs": [
    {
     "data": {
      "text/html": [
       "<div>\n",
       "<style scoped>\n",
       "    .dataframe tbody tr th:only-of-type {\n",
       "        vertical-align: middle;\n",
       "    }\n",
       "\n",
       "    .dataframe tbody tr th {\n",
       "        vertical-align: top;\n",
       "    }\n",
       "\n",
       "    .dataframe thead th {\n",
       "        text-align: right;\n",
       "    }\n",
       "</style>\n",
       "<table border=\"1\" class=\"dataframe\">\n",
       "  <thead>\n",
       "    <tr style=\"text-align: right;\">\n",
       "      <th></th>\n",
       "      <th>hit</th>\n",
       "      <th>popularity</th>\n",
       "      <th>danceability</th>\n",
       "      <th>energy</th>\n",
       "      <th>tempo</th>\n",
       "      <th>valence</th>\n",
       "      <th>acousticness</th>\n",
       "      <th>liveness</th>\n",
       "      <th>loudness</th>\n",
       "      <th>duration_ms</th>\n",
       "      <th>instrumentalness</th>\n",
       "      <th>key</th>\n",
       "      <th>mode</th>\n",
       "      <th>speechiness</th>\n",
       "      <th>time_signature</th>\n",
       "    </tr>\n",
       "  </thead>\n",
       "  <tbody>\n",
       "    <tr>\n",
       "      <th>count</th>\n",
       "      <td>5438.000000</td>\n",
       "      <td>5438.000000</td>\n",
       "      <td>5438.000000</td>\n",
       "      <td>5438.000000</td>\n",
       "      <td>5438.000000</td>\n",
       "      <td>5438.000000</td>\n",
       "      <td>5438.000000</td>\n",
       "      <td>5438.000000</td>\n",
       "      <td>5438.000000</td>\n",
       "      <td>5438.000000</td>\n",
       "      <td>5438.000000</td>\n",
       "      <td>5438.000000</td>\n",
       "      <td>5438.000000</td>\n",
       "      <td>5438.000000</td>\n",
       "      <td>5438.000000</td>\n",
       "    </tr>\n",
       "    <tr>\n",
       "      <th>mean</th>\n",
       "      <td>0.500000</td>\n",
       "      <td>54.770872</td>\n",
       "      <td>0.744372</td>\n",
       "      <td>0.651631</td>\n",
       "      <td>114.762814</td>\n",
       "      <td>0.645076</td>\n",
       "      <td>0.268567</td>\n",
       "      <td>0.147475</td>\n",
       "      <td>-7.135820</td>\n",
       "      <td>199330.045605</td>\n",
       "      <td>0.077140</td>\n",
       "      <td>5.221221</td>\n",
       "      <td>0.354174</td>\n",
       "      <td>0.127476</td>\n",
       "      <td>4.006804</td>\n",
       "    </tr>\n",
       "    <tr>\n",
       "      <th>std</th>\n",
       "      <td>0.500046</td>\n",
       "      <td>21.027044</td>\n",
       "      <td>0.109866</td>\n",
       "      <td>0.134752</td>\n",
       "      <td>24.409722</td>\n",
       "      <td>0.181096</td>\n",
       "      <td>0.203871</td>\n",
       "      <td>0.103715</td>\n",
       "      <td>2.324561</td>\n",
       "      <td>63334.557479</td>\n",
       "      <td>0.209397</td>\n",
       "      <td>3.246845</td>\n",
       "      <td>0.478306</td>\n",
       "      <td>0.093299</td>\n",
       "      <td>0.259719</td>\n",
       "    </tr>\n",
       "    <tr>\n",
       "      <th>min</th>\n",
       "      <td>0.000000</td>\n",
       "      <td>0.000000</td>\n",
       "      <td>0.285000</td>\n",
       "      <td>0.090800</td>\n",
       "      <td>33.116000</td>\n",
       "      <td>0.036100</td>\n",
       "      <td>0.000007</td>\n",
       "      <td>0.019600</td>\n",
       "      <td>-22.157000</td>\n",
       "      <td>35893.000000</td>\n",
       "      <td>0.000000</td>\n",
       "      <td>0.000000</td>\n",
       "      <td>0.000000</td>\n",
       "      <td>0.023900</td>\n",
       "      <td>1.000000</td>\n",
       "    </tr>\n",
       "    <tr>\n",
       "      <th>25%</th>\n",
       "      <td>0.000000</td>\n",
       "      <td>42.000000</td>\n",
       "      <td>0.679000</td>\n",
       "      <td>0.568222</td>\n",
       "      <td>100.876203</td>\n",
       "      <td>0.540000</td>\n",
       "      <td>0.104000</td>\n",
       "      <td>0.093010</td>\n",
       "      <td>-8.082076</td>\n",
       "      <td>163392.500000</td>\n",
       "      <td>0.000007</td>\n",
       "      <td>2.000000</td>\n",
       "      <td>0.000000</td>\n",
       "      <td>0.058524</td>\n",
       "      <td>4.000000</td>\n",
       "    </tr>\n",
       "    <tr>\n",
       "      <th>50%</th>\n",
       "      <td>0.500000</td>\n",
       "      <td>65.500000</td>\n",
       "      <td>0.765000</td>\n",
       "      <td>0.659000</td>\n",
       "      <td>109.212863</td>\n",
       "      <td>0.660920</td>\n",
       "      <td>0.226000</td>\n",
       "      <td>0.112140</td>\n",
       "      <td>-6.854000</td>\n",
       "      <td>187111.000000</td>\n",
       "      <td>0.000347</td>\n",
       "      <td>5.000000</td>\n",
       "      <td>0.000000</td>\n",
       "      <td>0.094800</td>\n",
       "      <td>4.000000</td>\n",
       "    </tr>\n",
       "    <tr>\n",
       "      <th>75%</th>\n",
       "      <td>1.000000</td>\n",
       "      <td>70.000000</td>\n",
       "      <td>0.821126</td>\n",
       "      <td>0.744000</td>\n",
       "      <td>119.754547</td>\n",
       "      <td>0.780292</td>\n",
       "      <td>0.395594</td>\n",
       "      <td>0.159000</td>\n",
       "      <td>-5.679000</td>\n",
       "      <td>216702.250000</td>\n",
       "      <td>0.012791</td>\n",
       "      <td>8.000000</td>\n",
       "      <td>1.000000</td>\n",
       "      <td>0.168144</td>\n",
       "      <td>4.000000</td>\n",
       "    </tr>\n",
       "    <tr>\n",
       "      <th>max</th>\n",
       "      <td>1.000000</td>\n",
       "      <td>94.000000</td>\n",
       "      <td>0.978000</td>\n",
       "      <td>0.995000</td>\n",
       "      <td>217.969000</td>\n",
       "      <td>0.981000</td>\n",
       "      <td>0.973000</td>\n",
       "      <td>0.988000</td>\n",
       "      <td>0.078000</td>\n",
       "      <td>941360.000000</td>\n",
       "      <td>0.979000</td>\n",
       "      <td>11.000000</td>\n",
       "      <td>1.000000</td>\n",
       "      <td>0.880000</td>\n",
       "      <td>5.000000</td>\n",
       "    </tr>\n",
       "  </tbody>\n",
       "</table>\n",
       "</div>"
      ],
      "text/plain": [
       "               hit   popularity  danceability       energy        tempo  \\\n",
       "count  5438.000000  5438.000000   5438.000000  5438.000000  5438.000000   \n",
       "mean      0.500000    54.770872      0.744372     0.651631   114.762814   \n",
       "std       0.500046    21.027044      0.109866     0.134752    24.409722   \n",
       "min       0.000000     0.000000      0.285000     0.090800    33.116000   \n",
       "25%       0.000000    42.000000      0.679000     0.568222   100.876203   \n",
       "50%       0.500000    65.500000      0.765000     0.659000   109.212863   \n",
       "75%       1.000000    70.000000      0.821126     0.744000   119.754547   \n",
       "max       1.000000    94.000000      0.978000     0.995000   217.969000   \n",
       "\n",
       "           valence  acousticness     liveness     loudness    duration_ms  \\\n",
       "count  5438.000000   5438.000000  5438.000000  5438.000000    5438.000000   \n",
       "mean      0.645076      0.268567     0.147475    -7.135820  199330.045605   \n",
       "std       0.181096      0.203871     0.103715     2.324561   63334.557479   \n",
       "min       0.036100      0.000007     0.019600   -22.157000   35893.000000   \n",
       "25%       0.540000      0.104000     0.093010    -8.082076  163392.500000   \n",
       "50%       0.660920      0.226000     0.112140    -6.854000  187111.000000   \n",
       "75%       0.780292      0.395594     0.159000    -5.679000  216702.250000   \n",
       "max       0.981000      0.973000     0.988000     0.078000  941360.000000   \n",
       "\n",
       "       instrumentalness          key         mode  speechiness  time_signature  \n",
       "count       5438.000000  5438.000000  5438.000000  5438.000000     5438.000000  \n",
       "mean           0.077140     5.221221     0.354174     0.127476        4.006804  \n",
       "std            0.209397     3.246845     0.478306     0.093299        0.259719  \n",
       "min            0.000000     0.000000     0.000000     0.023900        1.000000  \n",
       "25%            0.000007     2.000000     0.000000     0.058524        4.000000  \n",
       "50%            0.000347     5.000000     0.000000     0.094800        4.000000  \n",
       "75%            0.012791     8.000000     1.000000     0.168144        4.000000  \n",
       "max            0.979000    11.000000     1.000000     0.880000        5.000000  "
      ]
     },
     "execution_count": 25,
     "metadata": {},
     "output_type": "execute_result"
    }
   ],
   "source": [
    "new_datasets.describe()"
   ]
  },
  {
   "cell_type": "code",
   "execution_count": 24,
   "id": "f3a2e913-063f-442e-90da-4be38edbc7d2",
   "metadata": {},
   "outputs": [
    {
     "name": "stdout",
     "output_type": "stream",
     "text": [
      "1    2719\n",
      "0    2719\n",
      "Name: hit, dtype: int64\n"
     ]
    }
   ],
   "source": [
    "datasets = new_datasets.drop('popularity', axis=1)\n",
    "\n",
    "print(datasets['hit'].value_counts())"
   ]
  },
  {
   "cell_type": "code",
   "execution_count": 27,
   "id": "ef2df471-f35e-4e4c-9140-dfd5675cef4a",
   "metadata": {},
   "outputs": [
    {
     "name": "stderr",
     "output_type": "stream",
     "text": [
      "No artists with labels found to put in legend.  Note that artists whose label start with an underscore are ignored when legend() is called with no argument.\n"
     ]
    },
    {
     "data": {
      "text/plain": [
       "<matplotlib.legend.Legend at 0x2b1f475a560>"
      ]
     },
     "execution_count": 27,
     "metadata": {},
     "output_type": "execute_result"
    },
    {
     "data": {
      "image/png": "[encoded data removed]",
      "text/plain": [
       "<Figure size 640x480 with 1 Axes>"
      ]
     },
     "metadata": {},
     "output_type": "display_data"
    }
   ],
   "source": [
    "ax = sns.countplot(x='hit', data=datasets, palette='viridis')\n",
    "ax.set_xticklabels(['Non-Hit', 'Hit'])\n",
    "\n",
    "plt.xlabel('Categories')\n",
    "plt.ylabel('Count')\n",
    "plt.title('Imbalance Visualization')\n",
    "\n",
    "#Adding legend\n",
    "\n",
    "plt.legend()"
   ]
  },
  {
   "cell_type": "code",
   "execution_count": 28,
   "id": "6cdbbf5f-b27a-428c-9920-7b72cb9ed197",
   "metadata": {},
   "outputs": [
    {
     "data": {
      "text/html": [
       "<div>\n",
       "<style scoped>\n",
       "    .dataframe tbody tr th:only-of-type {\n",
       "        vertical-align: middle;\n",
       "    }\n",
       "\n",
       "    .dataframe tbody tr th {\n",
       "        vertical-align: top;\n",
       "    }\n",
       "\n",
       "    .dataframe thead th {\n",
       "        text-align: right;\n",
       "    }\n",
       "</style>\n",
       "<table border=\"1\" class=\"dataframe\">\n",
       "  <thead>\n",
       "    <tr style=\"text-align: right;\">\n",
       "      <th></th>\n",
       "      <th>hit</th>\n",
       "      <th>danceability</th>\n",
       "      <th>energy</th>\n",
       "      <th>tempo</th>\n",
       "      <th>valence</th>\n",
       "      <th>acousticness</th>\n",
       "      <th>liveness</th>\n",
       "      <th>loudness</th>\n",
       "      <th>duration_ms</th>\n",
       "      <th>instrumentalness</th>\n",
       "      <th>key</th>\n",
       "      <th>mode</th>\n",
       "      <th>speechiness</th>\n",
       "      <th>time_signature</th>\n",
       "    </tr>\n",
       "  </thead>\n",
       "  <tbody>\n",
       "    <tr>\n",
       "      <th>0</th>\n",
       "      <td>1</td>\n",
       "      <td>0.729</td>\n",
       "      <td>0.675</td>\n",
       "      <td>119.968</td>\n",
       "      <td>0.779</td>\n",
       "      <td>0.1750</td>\n",
       "      <td>0.5500</td>\n",
       "      <td>-6.003</td>\n",
       "      <td>245867</td>\n",
       "      <td>0.000002</td>\n",
       "      <td>8</td>\n",
       "      <td>1</td>\n",
       "      <td>0.0312</td>\n",
       "      <td>4</td>\n",
       "    </tr>\n",
       "    <tr>\n",
       "      <th>1</th>\n",
       "      <td>1</td>\n",
       "      <td>0.829</td>\n",
       "      <td>0.878</td>\n",
       "      <td>87.991</td>\n",
       "      <td>0.883</td>\n",
       "      <td>0.0959</td>\n",
       "      <td>0.7760</td>\n",
       "      <td>-5.951</td>\n",
       "      <td>239307</td>\n",
       "      <td>0.000000</td>\n",
       "      <td>9</td>\n",
       "      <td>1</td>\n",
       "      <td>0.1010</td>\n",
       "      <td>4</td>\n",
       "    </tr>\n",
       "    <tr>\n",
       "      <th>2</th>\n",
       "      <td>1</td>\n",
       "      <td>0.463</td>\n",
       "      <td>0.382</td>\n",
       "      <td>74.573</td>\n",
       "      <td>0.638</td>\n",
       "      <td>0.8970</td>\n",
       "      <td>0.1080</td>\n",
       "      <td>-11.682</td>\n",
       "      <td>209160</td>\n",
       "      <td>0.263000</td>\n",
       "      <td>5</td>\n",
       "      <td>1</td>\n",
       "      <td>0.0278</td>\n",
       "      <td>4</td>\n",
       "    </tr>\n",
       "    <tr>\n",
       "      <th>3</th>\n",
       "      <td>0</td>\n",
       "      <td>0.734</td>\n",
       "      <td>0.648</td>\n",
       "      <td>97.984</td>\n",
       "      <td>0.672</td>\n",
       "      <td>0.1240</td>\n",
       "      <td>0.2150</td>\n",
       "      <td>-5.509</td>\n",
       "      <td>222640</td>\n",
       "      <td>0.000000</td>\n",
       "      <td>4</td>\n",
       "      <td>1</td>\n",
       "      <td>0.1730</td>\n",
       "      <td>4</td>\n",
       "    </tr>\n",
       "    <tr>\n",
       "      <th>4</th>\n",
       "      <td>0</td>\n",
       "      <td>0.795</td>\n",
       "      <td>0.565</td>\n",
       "      <td>87.925</td>\n",
       "      <td>0.550</td>\n",
       "      <td>0.1310</td>\n",
       "      <td>0.0802</td>\n",
       "      <td>-4.457</td>\n",
       "      <td>172342</td>\n",
       "      <td>0.000000</td>\n",
       "      <td>3</td>\n",
       "      <td>0</td>\n",
       "      <td>0.0948</td>\n",
       "      <td>4</td>\n",
       "    </tr>\n",
       "  </tbody>\n",
       "</table>\n",
       "</div>"
      ],
      "text/plain": [
       "   hit  danceability  energy    tempo  valence  acousticness  liveness  \\\n",
       "0    1         0.729   0.675  119.968    0.779        0.1750    0.5500   \n",
       "1    1         0.829   0.878   87.991    0.883        0.0959    0.7760   \n",
       "2    1         0.463   0.382   74.573    0.638        0.8970    0.1080   \n",
       "3    0         0.734   0.648   97.984    0.672        0.1240    0.2150   \n",
       "4    0         0.795   0.565   87.925    0.550        0.1310    0.0802   \n",
       "\n",
       "   loudness  duration_ms  instrumentalness  key  mode  speechiness  \\\n",
       "0    -6.003       245867          0.000002    8     1       0.0312   \n",
       "1    -5.951       239307          0.000000    9     1       0.1010   \n",
       "2   -11.682       209160          0.263000    5     1       0.0278   \n",
       "3    -5.509       222640          0.000000    4     1       0.1730   \n",
       "4    -4.457       172342          0.000000    3     0       0.0948   \n",
       "\n",
       "   time_signature  \n",
       "0               4  \n",
       "1               4  \n",
       "2               4  \n",
       "3               4  \n",
       "4               4  "
      ]
     },
     "execution_count": 28,
     "metadata": {},
     "output_type": "execute_result"
    }
   ],
   "source": [
    "datasets.head()"
   ]
  },
  {
   "cell_type": "code",
   "execution_count": 34,
   "id": "9313ce66-c030-498b-bc84-0a8a6bff8e59",
   "metadata": {},
   "outputs": [],
   "source": [
    "datasets.to_csv('afro_balanced_dataset.csv')"
   ]
  },
  {
   "cell_type": "code",
   "execution_count": 55,
   "id": "64df9152-7878-4376-a8da-7ce4c10fa757",
   "metadata": {},
   "outputs": [],
   "source": [
    "# from imblearn.over_sampling import SMOTE\n",
    "def dataprocessing(df):\n",
    "    y=df['hit']\n",
    "    X = df.drop(['hit'], axis=1)\n",
    "\n",
    "    X_train, X_test, y_train, y_test = train_test_split(X, y, train_size = 0.80, random_state=42, shuffle=True)\n",
    "    # smote = SMOTE(sampling_strategy='auto', random_state=42)\n",
    "\n",
    "    # class_weight = {0: 1, 1: len(y_train[y_train == 0]) / len(y_train[y_train == 1])}\n",
    "    # X_sample, y_sample = smote.fit_resample(X_train, y_train)\n",
    "    # standardize\n",
    "    std = StandardScaler()\n",
    "    std.fit(X_train)\n",
    "\n",
    "    print(type(X_train))\n",
    "    X_train = pd.DataFrame(std.transform(X_train), index=X_train.index, columns=X_train.columns)\n",
    "    X_test = pd.DataFrame(std.transform(X_test), index=X_test.index, columns=X_test.columns)\n",
    "\n",
    "    return X_train, X_test, y_train, y_test"
   ]
  },
  {
   "cell_type": "code",
   "execution_count": 56,
   "id": "b817dcb0-c1b2-4dd2-900b-e25f2343618d",
   "metadata": {},
   "outputs": [
    {
     "name": "stdout",
     "output_type": "stream",
     "text": [
      "<class 'pandas.core.frame.DataFrame'>\n"
     ]
    }
   ],
   "source": [
    "X_train, X_test, y_train, y_test= dataprocessing(datasets)"
   ]
  },
  {
   "cell_type": "code",
   "execution_count": 58,
   "id": "e8a651ae-81c4-46e7-a1b5-a0dd777d269e",
   "metadata": {},
   "outputs": [],
   "source": [
    "# X_train.to_numpy().shapx\n",
    "# X_test.head()"
   ]
  },
  {
   "cell_type": "code",
   "execution_count": 31,
   "id": "67663941-5bcc-4d57-93b6-572fef430659",
   "metadata": {},
   "outputs": [],
   "source": [
    "# from imblearn.over_sampling import SMOTE\n",
    "# # Resampling the minority class. The strategy can be changed as required.\n",
    "# sm = SMOTE(sampling_strategy='minority', random_state=42)\n",
    "# # Fit the model to generate the data.\n",
    "# X_train, y_train = sm.fit_resample(X_train, y_train)\n",
    "# new_datasets = pd.concat([pd.DataFrame(oversampled_Y), pd.DataFrame(oversampled_X)], axis=1)"
   ]
  },
  {
   "cell_type": "code",
   "execution_count": 32,
   "id": "012c4980-0669-4068-99c6-981f460e7de4",
   "metadata": {},
   "outputs": [
    {
     "data": {
      "text/plain": [
       "((4350, 13),\n",
       " 0    2175\n",
       " 1    2175\n",
       " Name: hit, dtype: int64)"
      ]
     },
     "execution_count": 32,
     "metadata": {},
     "output_type": "execute_result"
    }
   ],
   "source": [
    "X_train.shape, y_train.value_counts()"
   ]
  },
  {
   "cell_type": "code",
   "execution_count": 33,
   "id": "38180d94-636e-447f-a131-9f0a772e3f3a",
   "metadata": {},
   "outputs": [
    {
     "name": "stdout",
     "output_type": "stream",
     "text": [
      "4350\n",
      "1088\n",
      "4350\n"
     ]
    }
   ],
   "source": [
    "print(len(X_train))\n",
    "print(len(X_test))\n",
    "print(len(y_train))"
   ]
  },
  {
   "cell_type": "code",
   "execution_count": 686,
   "id": "eda6aeab-fd08-42de-9710-b829324c11bb",
   "metadata": {},
   "outputs": [
    {
     "data": {
      "text/html": [
       "<div>\n",
       "<style scoped>\n",
       "    .dataframe tbody tr th:only-of-type {\n",
       "        vertical-align: middle;\n",
       "    }\n",
       "\n",
       "    .dataframe tbody tr th {\n",
       "        vertical-align: top;\n",
       "    }\n",
       "\n",
       "    .dataframe thead th {\n",
       "        text-align: right;\n",
       "    }\n",
       "</style>\n",
       "<table border=\"1\" class=\"dataframe\">\n",
       "  <thead>\n",
       "    <tr style=\"text-align: right;\">\n",
       "      <th></th>\n",
       "      <th>danceability</th>\n",
       "      <th>energy</th>\n",
       "      <th>tempo</th>\n",
       "      <th>valence</th>\n",
       "      <th>acousticness</th>\n",
       "      <th>liveness</th>\n",
       "      <th>loudness</th>\n",
       "      <th>duration_ms</th>\n",
       "      <th>instrumentalness</th>\n",
       "      <th>key</th>\n",
       "      <th>mode</th>\n",
       "      <th>speechiness</th>\n",
       "      <th>time_signature</th>\n",
       "    </tr>\n",
       "  </thead>\n",
       "  <tbody>\n",
       "    <tr>\n",
       "      <th>3772</th>\n",
       "      <td>-1.550789</td>\n",
       "      <td>-1.460797</td>\n",
       "      <td>0.299627</td>\n",
       "      <td>-0.210401</td>\n",
       "      <td>1.401304</td>\n",
       "      <td>-0.547307</td>\n",
       "      <td>-0.668818</td>\n",
       "      <td>-0.236058</td>\n",
       "      <td>-0.371431</td>\n",
       "      <td>1.161409</td>\n",
       "      <td>-0.740299</td>\n",
       "      <td>-0.638588</td>\n",
       "      <td>-0.027376</td>\n",
       "    </tr>\n",
       "    <tr>\n",
       "      <th>5191</th>\n",
       "      <td>0.679168</td>\n",
       "      <td>-0.789614</td>\n",
       "      <td>-0.769561</td>\n",
       "      <td>0.230898</td>\n",
       "      <td>-0.291030</td>\n",
       "      <td>-0.504527</td>\n",
       "      <td>-0.875395</td>\n",
       "      <td>0.336370</td>\n",
       "      <td>-0.370634</td>\n",
       "      <td>0.543940</td>\n",
       "      <td>1.350805</td>\n",
       "      <td>-0.478100</td>\n",
       "      <td>-0.027376</td>\n",
       "    </tr>\n",
       "    <tr>\n",
       "      <th>5226</th>\n",
       "      <td>1.030145</td>\n",
       "      <td>0.386167</td>\n",
       "      <td>-0.740426</td>\n",
       "      <td>0.755666</td>\n",
       "      <td>-1.074009</td>\n",
       "      <td>-0.305133</td>\n",
       "      <td>1.689424</td>\n",
       "      <td>0.164624</td>\n",
       "      <td>-0.338136</td>\n",
       "      <td>-0.690997</td>\n",
       "      <td>-0.740299</td>\n",
       "      <td>0.369201</td>\n",
       "      <td>-0.027376</td>\n",
       "    </tr>\n",
       "    <tr>\n",
       "      <th>5390</th>\n",
       "      <td>-0.866160</td>\n",
       "      <td>-1.063159</td>\n",
       "      <td>2.174472</td>\n",
       "      <td>0.502776</td>\n",
       "      <td>1.716650</td>\n",
       "      <td>-0.570137</td>\n",
       "      <td>0.636138</td>\n",
       "      <td>-0.507826</td>\n",
       "      <td>-0.367783</td>\n",
       "      <td>-0.690997</td>\n",
       "      <td>-0.740299</td>\n",
       "      <td>-0.448121</td>\n",
       "      <td>-0.027376</td>\n",
       "    </tr>\n",
       "    <tr>\n",
       "      <th>860</th>\n",
       "      <td>0.699061</td>\n",
       "      <td>-0.256846</td>\n",
       "      <td>0.041568</td>\n",
       "      <td>-1.410574</td>\n",
       "      <td>-1.166712</td>\n",
       "      <td>-0.282904</td>\n",
       "      <td>-1.008451</td>\n",
       "      <td>-0.502327</td>\n",
       "      <td>-0.371645</td>\n",
       "      <td>0.235206</td>\n",
       "      <td>-0.740299</td>\n",
       "      <td>-0.273268</td>\n",
       "      <td>-0.027376</td>\n",
       "    </tr>\n",
       "  </tbody>\n",
       "</table>\n",
       "</div>"
      ],
      "text/plain": [
       "      danceability    energy     tempo   valence  acousticness  liveness  \\\n",
       "3772     -1.550789 -1.460797  0.299627 -0.210401      1.401304 -0.547307   \n",
       "5191      0.679168 -0.789614 -0.769561  0.230898     -0.291030 -0.504527   \n",
       "5226      1.030145  0.386167 -0.740426  0.755666     -1.074009 -0.305133   \n",
       "5390     -0.866160 -1.063159  2.174472  0.502776      1.716650 -0.570137   \n",
       "860       0.699061 -0.256846  0.041568 -1.410574     -1.166712 -0.282904   \n",
       "\n",
       "      loudness  duration_ms  instrumentalness       key      mode  \\\n",
       "3772 -0.668818    -0.236058         -0.371431  1.161409 -0.740299   \n",
       "5191 -0.875395     0.336370         -0.370634  0.543940  1.350805   \n",
       "5226  1.689424     0.164624         -0.338136 -0.690997 -0.740299   \n",
       "5390  0.636138    -0.507826         -0.367783 -0.690997 -0.740299   \n",
       "860  -1.008451    -0.502327         -0.371645  0.235206 -0.740299   \n",
       "\n",
       "      speechiness  time_signature  \n",
       "3772    -0.638588       -0.027376  \n",
       "5191    -0.478100       -0.027376  \n",
       "5226     0.369201       -0.027376  \n",
       "5390    -0.448121       -0.027376  \n",
       "860     -0.273268       -0.027376  "
      ]
     },
     "execution_count": 686,
     "metadata": {},
     "output_type": "execute_result"
    }
   ],
   "source": [
    "X_train.tail()\n",
    "# print(class_weight)"
   ]
  },
  {
   "cell_type": "code",
   "execution_count": 687,
   "id": "19247302-7fe1-44e1-9040-155b98f93bc9",
   "metadata": {},
   "outputs": [
    {
     "data": {
      "text/plain": [
       "0    2175\n",
       "1    2175\n",
       "Name: hit, dtype: int64"
      ]
     },
     "execution_count": 687,
     "metadata": {},
     "output_type": "execute_result"
    }
   ],
   "source": [
    "y_train.value_counts()"
   ]
  },
  {
   "cell_type": "code",
   "execution_count": 688,
   "id": "cc1e885b-fab3-43ae-adbe-7ca42aec1c34",
   "metadata": {},
   "outputs": [
    {
     "name": "stdout",
     "output_type": "stream",
     "text": [
      "(1088, 13)\n",
      "1    544\n",
      "0    544\n",
      "Name: hit, dtype: int64 (1088,)\n"
     ]
    }
   ],
   "source": [
    "print(X_test.shape)\n",
    "print(y_test.value_counts(), y_test.shape)"
   ]
  },
  {
   "cell_type": "code",
   "execution_count": 689,
   "id": "55b3a5a0-bc7a-4181-abd4-3c05d9232044",
   "metadata": {},
   "outputs": [
    {
     "data": {
      "text/plain": [
       "hit                 0\n",
       "danceability        0\n",
       "energy              0\n",
       "tempo               0\n",
       "valence             0\n",
       "acousticness        0\n",
       "liveness            0\n",
       "loudness            0\n",
       "duration_ms         0\n",
       "instrumentalness    0\n",
       "key                 0\n",
       "mode                0\n",
       "speechiness         0\n",
       "time_signature      0\n",
       "dtype: int64"
      ]
     },
     "execution_count": 689,
     "metadata": {},
     "output_type": "execute_result"
    }
   ],
   "source": [
    "datasets.isnull().sum()"
   ]
  },
  {
   "cell_type": "code",
   "execution_count": 32,
   "id": "ee79646b-23e8-40f2-953b-3d33225c9e5a",
   "metadata": {},
   "outputs": [],
   "source": [
    "models = {\n",
    "    \"                   Logistic Regression\": LogisticRegression(),\n",
    "    \"                   K-Nearest Neighbors\": KNeighborsClassifier(),\n",
    "    \"                         Decision Tree\": DecisionTreeClassifier(),\n",
    "    \"Support Vector Machine (Linear Kernel)\": LinearSVC(),\n",
    "    \"   Support Vector Machine (RBF Kernel)\": SVC(),\n",
    "    \"                        Neural Network\": MLPClassifier(),\n",
    "    \"                         Random Forest\": RandomForestClassifier(),\n",
    "    \"                     Gradient Boosting\": GradientBoostingClassifier()\n",
    "}"
   ]
  },
  {
   "cell_type": "code",
   "execution_count": 33,
   "id": "244f2642-a9e8-4d29-95d6-3c41682db6ff",
   "metadata": {},
   "outputs": [
    {
     "name": "stdout",
     "output_type": "stream",
     "text": [
      "                   Logistic Regression trained.\n",
      "                   K-Nearest Neighbors trained.\n",
      "                         Decision Tree trained.\n",
      "Support Vector Machine (Linear Kernel) trained.\n",
      "   Support Vector Machine (RBF Kernel) trained.\n",
      "                        Neural Network trained.\n",
      "                         Random Forest trained.\n",
      "                     Gradient Boosting trained.\n"
     ]
    }
   ],
   "source": [
    "for name, model in models.items():\n",
    "    model.fit(X_train, y_train)\n",
    "    print(name + \" trained.\")"
   ]
  },
  {
   "cell_type": "code",
   "execution_count": 34,
   "id": "79087b10-a1f3-4f57-be4a-2c05485519ed",
   "metadata": {},
   "outputs": [
    {
     "name": "stdout",
     "output_type": "stream",
     "text": [
      "                   Logistic Regression: 65.07%\n",
      "                   K-Nearest Neighbors: 78.31%\n",
      "                         Decision Tree: 80.24%\n",
      "Support Vector Machine (Linear Kernel): 65.17%\n",
      "   Support Vector Machine (RBF Kernel): 79.41%\n",
      "                        Neural Network: 83.46%\n",
      "                         Random Forest: 88.88%\n",
      "                     Gradient Boosting: 80.61%\n"
     ]
    }
   ],
   "source": [
    "for name, model in models.items():\n",
    "    print(name + \": {:.2f}%\".format(model.score(X_test, y_test) * 100))"
   ]
  },
  {
   "cell_type": "code",
   "execution_count": 35,
   "id": "ece241e3-cae2-48ab-a8f7-d3ff935b7f3d",
   "metadata": {},
   "outputs": [],
   "source": [
    "# Neural Network: 84.65%\n",
    "# Random Forest: 88.42%\n",
    "# Gradient Boosting: 80.70%\n",
    "# Decision Tree: 81.07%"
   ]
  },
  {
   "cell_type": "code",
   "execution_count": 36,
   "id": "246c835f-b55f-4f7a-8a45-033b28a1f1a9",
   "metadata": {},
   "outputs": [
    {
     "name": "stdout",
     "output_type": "stream",
     "text": [
      "Random Forest (Tuned): 88.33%\n"
     ]
    }
   ],
   "source": [
    "from sklearn.model_selection import GridSearchCV\n",
    "\n",
    "\n",
    "param_grid = {\n",
    "    'n_estimators': [50, 100, 200],\n",
    "    'max_depth': [None, 10, 20]\n",
    "}\n",
    "\n",
    "grid_search = GridSearchCV(RandomForestClassifier(), param_grid, cv=5)\n",
    "grid_search.fit(X_train, y_train)\n",
    "best_model = grid_search.best_estimator_\n",
    "best_model.fit(X_train, y_train)\n",
    "y_pred = best_model.predict(X_test)\n",
    "acc3 = accuracy_score(y_test, y_pred) * 100\n",
    "print(f\"Random Forest (Tuned): {acc3:.2f}%\")"
   ]
  },
  {
   "cell_type": "code",
   "execution_count": 37,
   "id": "b70fbdc9-c734-42cb-a7a5-ffeb36b37209",
   "metadata": {},
   "outputs": [
    {
     "name": "stdout",
     "output_type": "stream",
     "text": [
      "stack classifier: 86.67%\n"
     ]
    }
   ],
   "source": [
    "from sklearn.ensemble import StackingClassifier\n",
    "# from sklearn.linear_model import LogisticRegression\n",
    "\n",
    "estimators = [\n",
    "    ('rf', RandomForestClassifier(n_estimators=100, max_depth=None)), ('svc', LinearSVC())\n",
    "]\n",
    "stack_classifier = StackingClassifier(estimators=estimators, final_estimator=LogisticRegression(max_iter=2500, C=0.01))\n",
    "stack_classifier.fit(X_train, y_train)\n",
    "y_pred2 = stack_classifier.predict(X_test)\n",
    "acc4 = accuracy_score(y_test, y_pred2) * 100\n",
    "print(f\"stack classifier: {acc4:.2f}%\")"
   ]
  },
  {
   "cell_type": "code",
   "execution_count": 263,
   "id": "3a2d0e26-c9a1-49d3-a329-8ed0c0cc2d23",
   "metadata": {},
   "outputs": [],
   "source": [
    "X_test.to_csv(\"X_test.csv\")"
   ]
  },
  {
   "cell_type": "code",
   "execution_count": 38,
   "id": "2a3eab91-30bb-434f-a611-c6bbe3270eb2",
   "metadata": {},
   "outputs": [],
   "source": [
    "model_1 = RandomForestClassifier()"
   ]
  },
  {
   "cell_type": "code",
   "execution_count": 39,
   "id": "b8853832-4125-41dc-a721-322bb944d1a3",
   "metadata": {},
   "outputs": [
    {
     "data": {
      "text/html": [
       "<div>\n",
       "<style scoped>\n",
       "    .dataframe tbody tr th:only-of-type {\n",
       "        vertical-align: middle;\n",
       "    }\n",
       "\n",
       "    .dataframe tbody tr th {\n",
       "        vertical-align: top;\n",
       "    }\n",
       "\n",
       "    .dataframe thead th {\n",
       "        text-align: right;\n",
       "    }\n",
       "</style>\n",
       "<table border=\"1\" class=\"dataframe\">\n",
       "  <thead>\n",
       "    <tr style=\"text-align: right;\">\n",
       "      <th></th>\n",
       "      <th>danceability</th>\n",
       "      <th>energy</th>\n",
       "      <th>tempo</th>\n",
       "      <th>valence</th>\n",
       "      <th>acousticness</th>\n",
       "      <th>liveness</th>\n",
       "      <th>loudness</th>\n",
       "      <th>duration_ms</th>\n",
       "      <th>instrumentalness</th>\n",
       "      <th>key</th>\n",
       "      <th>mode</th>\n",
       "      <th>speechiness</th>\n",
       "      <th>time_signature</th>\n",
       "    </tr>\n",
       "  </thead>\n",
       "  <tbody>\n",
       "    <tr>\n",
       "      <th>3204</th>\n",
       "      <td>-0.598776</td>\n",
       "      <td>-1.816989</td>\n",
       "      <td>-0.085415</td>\n",
       "      <td>-0.745254</td>\n",
       "      <td>1.653758</td>\n",
       "      <td>2.903992</td>\n",
       "      <td>-1.342143</td>\n",
       "      <td>-1.512947</td>\n",
       "      <td>-0.366159</td>\n",
       "      <td>0.543940</td>\n",
       "      <td>-0.740299</td>\n",
       "      <td>-0.948985</td>\n",
       "      <td>-0.027376</td>\n",
       "    </tr>\n",
       "    <tr>\n",
       "      <th>4515</th>\n",
       "      <td>-0.763890</td>\n",
       "      <td>-1.481641</td>\n",
       "      <td>0.009706</td>\n",
       "      <td>-1.287553</td>\n",
       "      <td>-1.255294</td>\n",
       "      <td>-0.927524</td>\n",
       "      <td>-1.466404</td>\n",
       "      <td>2.107467</td>\n",
       "      <td>1.357680</td>\n",
       "      <td>-1.308465</td>\n",
       "      <td>1.350805</td>\n",
       "      <td>-0.449183</td>\n",
       "      <td>-0.027376</td>\n",
       "    </tr>\n",
       "    <tr>\n",
       "      <th>2146</th>\n",
       "      <td>0.817920</td>\n",
       "      <td>-1.182493</td>\n",
       "      <td>-0.609081</td>\n",
       "      <td>-0.461589</td>\n",
       "      <td>2.065684</td>\n",
       "      <td>-0.223617</td>\n",
       "      <td>-0.788834</td>\n",
       "      <td>-0.195284</td>\n",
       "      <td>-0.371668</td>\n",
       "      <td>-0.073528</td>\n",
       "      <td>-0.740299</td>\n",
       "      <td>0.693856</td>\n",
       "      <td>-0.027376</td>\n",
       "    </tr>\n",
       "    <tr>\n",
       "      <th>3105</th>\n",
       "      <td>-0.269789</td>\n",
       "      <td>0.581690</td>\n",
       "      <td>-0.452757</td>\n",
       "      <td>-0.569413</td>\n",
       "      <td>0.329697</td>\n",
       "      <td>0.139415</td>\n",
       "      <td>1.220846</td>\n",
       "      <td>-0.863392</td>\n",
       "      <td>-0.365774</td>\n",
       "      <td>0.543940</td>\n",
       "      <td>1.350805</td>\n",
       "      <td>-0.705081</td>\n",
       "      <td>-0.027376</td>\n",
       "    </tr>\n",
       "    <tr>\n",
       "      <th>881</th>\n",
       "      <td>1.128782</td>\n",
       "      <td>-0.982553</td>\n",
       "      <td>-0.038288</td>\n",
       "      <td>1.337069</td>\n",
       "      <td>0.066818</td>\n",
       "      <td>-0.468670</td>\n",
       "      <td>0.095592</td>\n",
       "      <td>0.112065</td>\n",
       "      <td>-0.371369</td>\n",
       "      <td>-1.308465</td>\n",
       "      <td>-0.740299</td>\n",
       "      <td>-0.819155</td>\n",
       "      <td>-0.027376</td>\n",
       "    </tr>\n",
       "  </tbody>\n",
       "</table>\n",
       "</div>"
      ],
      "text/plain": [
       "      danceability    energy     tempo   valence  acousticness  liveness  \\\n",
       "3204     -0.598776 -1.816989 -0.085415 -0.745254      1.653758  2.903992   \n",
       "4515     -0.763890 -1.481641  0.009706 -1.287553     -1.255294 -0.927524   \n",
       "2146      0.817920 -1.182493 -0.609081 -0.461589      2.065684 -0.223617   \n",
       "3105     -0.269789  0.581690 -0.452757 -0.569413      0.329697  0.139415   \n",
       "881       1.128782 -0.982553 -0.038288  1.337069      0.066818 -0.468670   \n",
       "\n",
       "      loudness  duration_ms  instrumentalness       key      mode  \\\n",
       "3204 -1.342143    -1.512947         -0.366159  0.543940 -0.740299   \n",
       "4515 -1.466404     2.107467          1.357680 -1.308465  1.350805   \n",
       "2146 -0.788834    -0.195284         -0.371668 -0.073528 -0.740299   \n",
       "3105  1.220846    -0.863392         -0.365774  0.543940  1.350805   \n",
       "881   0.095592     0.112065         -0.371369 -1.308465 -0.740299   \n",
       "\n",
       "      speechiness  time_signature  \n",
       "3204    -0.948985       -0.027376  \n",
       "4515    -0.449183       -0.027376  \n",
       "2146     0.693856       -0.027376  \n",
       "3105    -0.705081       -0.027376  \n",
       "881     -0.819155       -0.027376  "
      ]
     },
     "execution_count": 39,
     "metadata": {},
     "output_type": "execute_result"
    }
   ],
   "source": [
    "X_test.head()"
   ]
  },
  {
   "cell_type": "code",
   "execution_count": 40,
   "id": "7e34302f-b1b2-4fab-927c-4e3f2440a59e",
   "metadata": {},
   "outputs": [
    {
     "data": {
      "text/html": [
       "<style>#sk-container-id-1 {color: black;background-color: white;}#sk-container-id-1 pre{padding: 0;}#sk-container-id-1 div.sk-toggleable {background-color: white;}#sk-container-id-1 label.sk-toggleable__label {cursor: pointer;display: block;width: 100%;margin-bottom: 0;padding: 0.3em;box-sizing: border-box;text-align: center;}#sk-container-id-1 label.sk-toggleable__label-arrow:before {content: \"▸\";float: left;margin-right: 0.25em;color: #696969;}#sk-container-id-1 label.sk-toggleable__label-arrow:hover:before {color: black;}#sk-container-id-1 div.sk-estimator:hover label.sk-toggleable__label-arrow:before {color: black;}#sk-container-id-1 div.sk-toggleable__content {max-height: 0;max-width: 0;overflow: hidden;text-align: left;background-color: #f0f8ff;}#sk-container-id-1 div.sk-toggleable__content pre {margin: 0.2em;color: black;border-radius: 0.25em;background-color: #f0f8ff;}#sk-container-id-1 input.sk-toggleable__control:checked~div.sk-toggleable__content {max-height: 200px;max-width: 100%;overflow: auto;}#sk-container-id-1 input.sk-toggleable__control:checked~label.sk-toggleable__label-arrow:before {content: \"▾\";}#sk-container-id-1 div.sk-estimator input.sk-toggleable__control:checked~label.sk-toggleable__label {background-color: #d4ebff;}#sk-container-id-1 div.sk-label input.sk-toggleable__control:checked~label.sk-toggleable__label {background-color: #d4ebff;}#sk-container-id-1 input.sk-hidden--visually {border: 0;clip: rect(1px 1px 1px 1px);clip: rect(1px, 1px, 1px, 1px);height: 1px;margin: -1px;overflow: hidden;padding: 0;position: absolute;width: 1px;}#sk-container-id-1 div.sk-estimator {font-family: monospace;background-color: #f0f8ff;border: 1px dotted black;border-radius: 0.25em;box-sizing: border-box;margin-bottom: 0.5em;}#sk-container-id-1 div.sk-estimator:hover {background-color: #d4ebff;}#sk-container-id-1 div.sk-parallel-item::after {content: \"\";width: 100%;border-bottom: 1px solid gray;flex-grow: 1;}#sk-container-id-1 div.sk-label:hover label.sk-toggleable__label {background-color: #d4ebff;}#sk-container-id-1 div.sk-serial::before {content: \"\";position: absolute;border-left: 1px solid gray;box-sizing: border-box;top: 0;bottom: 0;left: 50%;z-index: 0;}#sk-container-id-1 div.sk-serial {display: flex;flex-direction: column;align-items: center;background-color: white;padding-right: 0.2em;padding-left: 0.2em;position: relative;}#sk-container-id-1 div.sk-item {position: relative;z-index: 1;}#sk-container-id-1 div.sk-parallel {display: flex;align-items: stretch;justify-content: center;background-color: white;position: relative;}#sk-container-id-1 div.sk-item::before, #sk-container-id-1 div.sk-parallel-item::before {content: \"\";position: absolute;border-left: 1px solid gray;box-sizing: border-box;top: 0;bottom: 0;left: 50%;z-index: -1;}#sk-container-id-1 div.sk-parallel-item {display: flex;flex-direction: column;z-index: 1;position: relative;background-color: white;}#sk-container-id-1 div.sk-parallel-item:first-child::after {align-self: flex-end;width: 50%;}#sk-container-id-1 div.sk-parallel-item:last-child::after {align-self: flex-start;width: 50%;}#sk-container-id-1 div.sk-parallel-item:only-child::after {width: 0;}#sk-container-id-1 div.sk-dashed-wrapped {border: 1px dashed gray;margin: 0 0.4em 0.5em 0.4em;box-sizing: border-box;padding-bottom: 0.4em;background-color: white;}#sk-container-id-1 div.sk-label label {font-family: monospace;font-weight: bold;display: inline-block;line-height: 1.2em;}#sk-container-id-1 div.sk-label-container {text-align: center;}#sk-container-id-1 div.sk-container {/* jupyter's `normalize.less` sets `[hidden] { display: none; }` but bootstrap.min.css set `[hidden] { display: none !important; }` so we also need the `!important` here to be able to override the default hidden behavior on the sphinx rendered scikit-learn.org. See: https://github.com/scikit-learn/scikit-learn/issues/21755 */display: inline-block !important;position: relative;}#sk-container-id-1 div.sk-text-repr-fallback {display: none;}</style><div id=\"sk-container-id-1\" class=\"sk-top-container\"><div class=\"sk-text-repr-fallback\"><pre>RandomForestClassifier()</pre><b>In a Jupyter environment, please rerun this cell to show the HTML representation or trust the notebook. <br />On GitHub, the HTML representation is unable to render, please try loading this page with nbviewer.org.</b></div><div class=\"sk-container\" hidden><div class=\"sk-item\"><div class=\"sk-estimator sk-toggleable\"><input class=\"sk-toggleable__control sk-hidden--visually\" id=\"sk-estimator-id-1\" type=\"checkbox\" checked><label for=\"sk-estimator-id-1\" class=\"sk-toggleable__label sk-toggleable__label-arrow\">RandomForestClassifier</label><div class=\"sk-toggleable__content\"><pre>RandomForestClassifier()</pre></div></div></div></div></div>"
      ],
      "text/plain": [
       "RandomForestClassifier()"
      ]
     },
     "execution_count": 40,
     "metadata": {},
     "output_type": "execute_result"
    }
   ],
   "source": [
    "model_1.fit(X_train, y_train)"
   ]
  },
  {
   "cell_type": "code",
   "execution_count": 41,
   "id": "553b38ac-cad5-4f1f-8ec0-7ec06b372642",
   "metadata": {},
   "outputs": [
    {
     "name": "stdout",
     "output_type": "stream",
     "text": [
      "Accuracy: 89.06%\n"
     ]
    }
   ],
   "source": [
    "y_pred = model_1.predict(X_test)\n",
    "\n",
    "acc = accuracy_score(y_test, y_pred) * 100\n",
    "\n",
    "print(f\"Accuracy: {acc:.2f}%\")"
   ]
  },
  {
   "cell_type": "code",
   "execution_count": 42,
   "id": "08f1487f-58f5-4823-be3d-e7cb234d0ab3",
   "metadata": {},
   "outputs": [
    {
     "data": {
      "text/html": [
       "<div>\n",
       "<style scoped>\n",
       "    .dataframe tbody tr th:only-of-type {\n",
       "        vertical-align: middle;\n",
       "    }\n",
       "\n",
       "    .dataframe tbody tr th {\n",
       "        vertical-align: top;\n",
       "    }\n",
       "\n",
       "    .dataframe thead th {\n",
       "        text-align: right;\n",
       "    }\n",
       "</style>\n",
       "<table border=\"1\" class=\"dataframe\">\n",
       "  <thead>\n",
       "    <tr style=\"text-align: right;\">\n",
       "      <th></th>\n",
       "      <th>danceability</th>\n",
       "      <th>energy</th>\n",
       "      <th>tempo</th>\n",
       "      <th>valence</th>\n",
       "      <th>acousticness</th>\n",
       "      <th>liveness</th>\n",
       "      <th>loudness</th>\n",
       "      <th>duration_ms</th>\n",
       "      <th>instrumentalness</th>\n",
       "      <th>key</th>\n",
       "      <th>mode</th>\n",
       "      <th>speechiness</th>\n",
       "      <th>time_signature</th>\n",
       "    </tr>\n",
       "  </thead>\n",
       "  <tbody>\n",
       "    <tr>\n",
       "      <th>3204</th>\n",
       "      <td>-0.598776</td>\n",
       "      <td>-1.816989</td>\n",
       "      <td>-0.085415</td>\n",
       "      <td>-0.745254</td>\n",
       "      <td>1.653758</td>\n",
       "      <td>2.903992</td>\n",
       "      <td>-1.342143</td>\n",
       "      <td>-1.512947</td>\n",
       "      <td>-0.366159</td>\n",
       "      <td>0.543940</td>\n",
       "      <td>-0.740299</td>\n",
       "      <td>-0.948985</td>\n",
       "      <td>-0.027376</td>\n",
       "    </tr>\n",
       "    <tr>\n",
       "      <th>4515</th>\n",
       "      <td>-0.763890</td>\n",
       "      <td>-1.481641</td>\n",
       "      <td>0.009706</td>\n",
       "      <td>-1.287553</td>\n",
       "      <td>-1.255294</td>\n",
       "      <td>-0.927524</td>\n",
       "      <td>-1.466404</td>\n",
       "      <td>2.107467</td>\n",
       "      <td>1.357680</td>\n",
       "      <td>-1.308465</td>\n",
       "      <td>1.350805</td>\n",
       "      <td>-0.449183</td>\n",
       "      <td>-0.027376</td>\n",
       "    </tr>\n",
       "    <tr>\n",
       "      <th>2146</th>\n",
       "      <td>0.817920</td>\n",
       "      <td>-1.182493</td>\n",
       "      <td>-0.609081</td>\n",
       "      <td>-0.461589</td>\n",
       "      <td>2.065684</td>\n",
       "      <td>-0.223617</td>\n",
       "      <td>-0.788834</td>\n",
       "      <td>-0.195284</td>\n",
       "      <td>-0.371668</td>\n",
       "      <td>-0.073528</td>\n",
       "      <td>-0.740299</td>\n",
       "      <td>0.693856</td>\n",
       "      <td>-0.027376</td>\n",
       "    </tr>\n",
       "    <tr>\n",
       "      <th>3105</th>\n",
       "      <td>-0.269789</td>\n",
       "      <td>0.581690</td>\n",
       "      <td>-0.452757</td>\n",
       "      <td>-0.569413</td>\n",
       "      <td>0.329697</td>\n",
       "      <td>0.139415</td>\n",
       "      <td>1.220846</td>\n",
       "      <td>-0.863392</td>\n",
       "      <td>-0.365774</td>\n",
       "      <td>0.543940</td>\n",
       "      <td>1.350805</td>\n",
       "      <td>-0.705081</td>\n",
       "      <td>-0.027376</td>\n",
       "    </tr>\n",
       "    <tr>\n",
       "      <th>881</th>\n",
       "      <td>1.128782</td>\n",
       "      <td>-0.982553</td>\n",
       "      <td>-0.038288</td>\n",
       "      <td>1.337069</td>\n",
       "      <td>0.066818</td>\n",
       "      <td>-0.468670</td>\n",
       "      <td>0.095592</td>\n",
       "      <td>0.112065</td>\n",
       "      <td>-0.371369</td>\n",
       "      <td>-1.308465</td>\n",
       "      <td>-0.740299</td>\n",
       "      <td>-0.819155</td>\n",
       "      <td>-0.027376</td>\n",
       "    </tr>\n",
       "  </tbody>\n",
       "</table>\n",
       "</div>"
      ],
      "text/plain": [
       "      danceability    energy     tempo   valence  acousticness  liveness  \\\n",
       "3204     -0.598776 -1.816989 -0.085415 -0.745254      1.653758  2.903992   \n",
       "4515     -0.763890 -1.481641  0.009706 -1.287553     -1.255294 -0.927524   \n",
       "2146      0.817920 -1.182493 -0.609081 -0.461589      2.065684 -0.223617   \n",
       "3105     -0.269789  0.581690 -0.452757 -0.569413      0.329697  0.139415   \n",
       "881       1.128782 -0.982553 -0.038288  1.337069      0.066818 -0.468670   \n",
       "\n",
       "      loudness  duration_ms  instrumentalness       key      mode  \\\n",
       "3204 -1.342143    -1.512947         -0.366159  0.543940 -0.740299   \n",
       "4515 -1.466404     2.107467          1.357680 -1.308465  1.350805   \n",
       "2146 -0.788834    -0.195284         -0.371668 -0.073528 -0.740299   \n",
       "3105  1.220846    -0.863392         -0.365774  0.543940  1.350805   \n",
       "881   0.095592     0.112065         -0.371369 -1.308465 -0.740299   \n",
       "\n",
       "      speechiness  time_signature  \n",
       "3204    -0.948985       -0.027376  \n",
       "4515    -0.449183       -0.027376  \n",
       "2146     0.693856       -0.027376  \n",
       "3105    -0.705081       -0.027376  \n",
       "881     -0.819155       -0.027376  "
      ]
     },
     "execution_count": 42,
     "metadata": {},
     "output_type": "execute_result"
    }
   ],
   "source": [
    "X_test.head()"
   ]
  },
  {
   "cell_type": "code",
   "execution_count": 43,
   "id": "2615634e-8370-46aa-b2cd-0c537d2ee52d",
   "metadata": {},
   "outputs": [
    {
     "data": {
      "text/plain": [
       "danceability       -0.598776\n",
       "energy             -1.816989\n",
       "tempo              -0.085415\n",
       "valence            -0.745254\n",
       "acousticness        1.653758\n",
       "liveness            2.903992\n",
       "loudness           -1.342143\n",
       "duration_ms        -1.512947\n",
       "instrumentalness   -0.366159\n",
       "key                 0.543940\n",
       "mode               -0.740299\n",
       "speechiness        -0.948985\n",
       "time_signature     -0.027376\n",
       "Name: 3204, dtype: float64"
      ]
     },
     "execution_count": 43,
     "metadata": {},
     "output_type": "execute_result"
    }
   ],
   "source": [
    "X_test.loc[3204,:]"
   ]
  },
  {
   "cell_type": "code",
   "execution_count": 44,
   "id": "e00fc7fd-80c6-4085-be9b-4c2a45740c92",
   "metadata": {},
   "outputs": [
    {
     "data": {
      "text/html": [
       "<div>\n",
       "<style scoped>\n",
       "    .dataframe tbody tr th:only-of-type {\n",
       "        vertical-align: middle;\n",
       "    }\n",
       "\n",
       "    .dataframe tbody tr th {\n",
       "        vertical-align: top;\n",
       "    }\n",
       "\n",
       "    .dataframe thead th {\n",
       "        text-align: right;\n",
       "    }\n",
       "</style>\n",
       "<table border=\"1\" class=\"dataframe\">\n",
       "  <thead>\n",
       "    <tr style=\"text-align: right;\">\n",
       "      <th></th>\n",
       "      <th>danceability</th>\n",
       "      <th>energy</th>\n",
       "      <th>tempo</th>\n",
       "      <th>valence</th>\n",
       "      <th>acousticness</th>\n",
       "      <th>liveness</th>\n",
       "      <th>loudness</th>\n",
       "      <th>duration_ms</th>\n",
       "      <th>instrumentalness</th>\n",
       "      <th>key</th>\n",
       "      <th>mode</th>\n",
       "      <th>speechiness</th>\n",
       "      <th>time_signature</th>\n",
       "    </tr>\n",
       "  </thead>\n",
       "  <tbody>\n",
       "    <tr>\n",
       "      <th>3204</th>\n",
       "      <td>-0.598776</td>\n",
       "      <td>-1.816989</td>\n",
       "      <td>-0.085415</td>\n",
       "      <td>-0.745254</td>\n",
       "      <td>1.653758</td>\n",
       "      <td>2.903992</td>\n",
       "      <td>-1.342143</td>\n",
       "      <td>-1.512947</td>\n",
       "      <td>-0.366159</td>\n",
       "      <td>0.543940</td>\n",
       "      <td>-0.740299</td>\n",
       "      <td>-0.948985</td>\n",
       "      <td>-0.027376</td>\n",
       "    </tr>\n",
       "    <tr>\n",
       "      <th>4515</th>\n",
       "      <td>-0.763890</td>\n",
       "      <td>-1.481641</td>\n",
       "      <td>0.009706</td>\n",
       "      <td>-1.287553</td>\n",
       "      <td>-1.255294</td>\n",
       "      <td>-0.927524</td>\n",
       "      <td>-1.466404</td>\n",
       "      <td>2.107467</td>\n",
       "      <td>1.357680</td>\n",
       "      <td>-1.308465</td>\n",
       "      <td>1.350805</td>\n",
       "      <td>-0.449183</td>\n",
       "      <td>-0.027376</td>\n",
       "    </tr>\n",
       "    <tr>\n",
       "      <th>2146</th>\n",
       "      <td>0.817920</td>\n",
       "      <td>-1.182493</td>\n",
       "      <td>-0.609081</td>\n",
       "      <td>-0.461589</td>\n",
       "      <td>2.065684</td>\n",
       "      <td>-0.223617</td>\n",
       "      <td>-0.788834</td>\n",
       "      <td>-0.195284</td>\n",
       "      <td>-0.371668</td>\n",
       "      <td>-0.073528</td>\n",
       "      <td>-0.740299</td>\n",
       "      <td>0.693856</td>\n",
       "      <td>-0.027376</td>\n",
       "    </tr>\n",
       "    <tr>\n",
       "      <th>3105</th>\n",
       "      <td>-0.269789</td>\n",
       "      <td>0.581690</td>\n",
       "      <td>-0.452757</td>\n",
       "      <td>-0.569413</td>\n",
       "      <td>0.329697</td>\n",
       "      <td>0.139415</td>\n",
       "      <td>1.220846</td>\n",
       "      <td>-0.863392</td>\n",
       "      <td>-0.365774</td>\n",
       "      <td>0.543940</td>\n",
       "      <td>1.350805</td>\n",
       "      <td>-0.705081</td>\n",
       "      <td>-0.027376</td>\n",
       "    </tr>\n",
       "    <tr>\n",
       "      <th>881</th>\n",
       "      <td>1.128782</td>\n",
       "      <td>-0.982553</td>\n",
       "      <td>-0.038288</td>\n",
       "      <td>1.337069</td>\n",
       "      <td>0.066818</td>\n",
       "      <td>-0.468670</td>\n",
       "      <td>0.095592</td>\n",
       "      <td>0.112065</td>\n",
       "      <td>-0.371369</td>\n",
       "      <td>-1.308465</td>\n",
       "      <td>-0.740299</td>\n",
       "      <td>-0.819155</td>\n",
       "      <td>-0.027376</td>\n",
       "    </tr>\n",
       "    <tr>\n",
       "      <th>...</th>\n",
       "      <td>...</td>\n",
       "      <td>...</td>\n",
       "      <td>...</td>\n",
       "      <td>...</td>\n",
       "      <td>...</td>\n",
       "      <td>...</td>\n",
       "      <td>...</td>\n",
       "      <td>...</td>\n",
       "      <td>...</td>\n",
       "      <td>...</td>\n",
       "      <td>...</td>\n",
       "      <td>...</td>\n",
       "      <td>...</td>\n",
       "    </tr>\n",
       "    <tr>\n",
       "      <th>1941</th>\n",
       "      <td>-0.580958</td>\n",
       "      <td>1.668501</td>\n",
       "      <td>0.411945</td>\n",
       "      <td>0.134286</td>\n",
       "      <td>-1.058216</td>\n",
       "      <td>-1.006205</td>\n",
       "      <td>2.239836</td>\n",
       "      <td>1.622536</td>\n",
       "      <td>-0.371668</td>\n",
       "      <td>-1.617200</td>\n",
       "      <td>-0.740299</td>\n",
       "      <td>0.188802</td>\n",
       "      <td>-0.027376</td>\n",
       "    </tr>\n",
       "    <tr>\n",
       "      <th>1041</th>\n",
       "      <td>0.964208</td>\n",
       "      <td>-0.064311</td>\n",
       "      <td>-0.445368</td>\n",
       "      <td>1.579833</td>\n",
       "      <td>0.443133</td>\n",
       "      <td>-0.534874</td>\n",
       "      <td>0.350960</td>\n",
       "      <td>-0.731054</td>\n",
       "      <td>-0.371616</td>\n",
       "      <td>1.778877</td>\n",
       "      <td>-0.740299</td>\n",
       "      <td>-0.712772</td>\n",
       "      <td>-0.027376</td>\n",
       "    </tr>\n",
       "    <tr>\n",
       "      <th>1634</th>\n",
       "      <td>0.607631</td>\n",
       "      <td>-0.012475</td>\n",
       "      <td>-0.201349</td>\n",
       "      <td>0.520501</td>\n",
       "      <td>0.956289</td>\n",
       "      <td>-0.789808</td>\n",
       "      <td>1.842312</td>\n",
       "      <td>0.922046</td>\n",
       "      <td>-0.364233</td>\n",
       "      <td>-1.308465</td>\n",
       "      <td>1.350805</td>\n",
       "      <td>-0.578449</td>\n",
       "      <td>-0.027376</td>\n",
       "    </tr>\n",
       "    <tr>\n",
       "      <th>2462</th>\n",
       "      <td>-0.379812</td>\n",
       "      <td>-0.212415</td>\n",
       "      <td>-1.019713</td>\n",
       "      <td>0.901198</td>\n",
       "      <td>0.501779</td>\n",
       "      <td>6.021277</td>\n",
       "      <td>-1.128900</td>\n",
       "      <td>-0.495220</td>\n",
       "      <td>-0.371668</td>\n",
       "      <td>-0.073528</td>\n",
       "      <td>1.350805</td>\n",
       "      <td>-0.348489</td>\n",
       "      <td>-0.027376</td>\n",
       "    </tr>\n",
       "    <tr>\n",
       "      <th>2809</th>\n",
       "      <td>-1.714689</td>\n",
       "      <td>-0.619700</td>\n",
       "      <td>0.126283</td>\n",
       "      <td>0.597744</td>\n",
       "      <td>-1.263674</td>\n",
       "      <td>-0.450884</td>\n",
       "      <td>-1.768172</td>\n",
       "      <td>1.134711</td>\n",
       "      <td>3.430904</td>\n",
       "      <td>-1.308465</td>\n",
       "      <td>1.350805</td>\n",
       "      <td>-0.947031</td>\n",
       "      <td>-0.027376</td>\n",
       "    </tr>\n",
       "  </tbody>\n",
       "</table>\n",
       "<p>1088 rows × 13 columns</p>\n",
       "</div>"
      ],
      "text/plain": [
       "      danceability    energy     tempo   valence  acousticness  liveness  \\\n",
       "3204     -0.598776 -1.816989 -0.085415 -0.745254      1.653758  2.903992   \n",
       "4515     -0.763890 -1.481641  0.009706 -1.287553     -1.255294 -0.927524   \n",
       "2146      0.817920 -1.182493 -0.609081 -0.461589      2.065684 -0.223617   \n",
       "3105     -0.269789  0.581690 -0.452757 -0.569413      0.329697  0.139415   \n",
       "881       1.128782 -0.982553 -0.038288  1.337069      0.066818 -0.468670   \n",
       "...            ...       ...       ...       ...           ...       ...   \n",
       "1941     -0.580958  1.668501  0.411945  0.134286     -1.058216 -1.006205   \n",
       "1041      0.964208 -0.064311 -0.445368  1.579833      0.443133 -0.534874   \n",
       "1634      0.607631 -0.012475 -0.201349  0.520501      0.956289 -0.789808   \n",
       "2462     -0.379812 -0.212415 -1.019713  0.901198      0.501779  6.021277   \n",
       "2809     -1.714689 -0.619700  0.126283  0.597744     -1.263674 -0.450884   \n",
       "\n",
       "      loudness  duration_ms  instrumentalness       key      mode  \\\n",
       "3204 -1.342143    -1.512947         -0.366159  0.543940 -0.740299   \n",
       "4515 -1.466404     2.107467          1.357680 -1.308465  1.350805   \n",
       "2146 -0.788834    -0.195284         -0.371668 -0.073528 -0.740299   \n",
       "3105  1.220846    -0.863392         -0.365774  0.543940  1.350805   \n",
       "881   0.095592     0.112065         -0.371369 -1.308465 -0.740299   \n",
       "...        ...          ...               ...       ...       ...   \n",
       "1941  2.239836     1.622536         -0.371668 -1.617200 -0.740299   \n",
       "1041  0.350960    -0.731054         -0.371616  1.778877 -0.740299   \n",
       "1634  1.842312     0.922046         -0.364233 -1.308465  1.350805   \n",
       "2462 -1.128900    -0.495220         -0.371668 -0.073528  1.350805   \n",
       "2809 -1.768172     1.134711          3.430904 -1.308465  1.350805   \n",
       "\n",
       "      speechiness  time_signature  \n",
       "3204    -0.948985       -0.027376  \n",
       "4515    -0.449183       -0.027376  \n",
       "2146     0.693856       -0.027376  \n",
       "3105    -0.705081       -0.027376  \n",
       "881     -0.819155       -0.027376  \n",
       "...           ...             ...  \n",
       "1941     0.188802       -0.027376  \n",
       "1041    -0.712772       -0.027376  \n",
       "1634    -0.578449       -0.027376  \n",
       "2462    -0.348489       -0.027376  \n",
       "2809    -0.947031       -0.027376  \n",
       "\n",
       "[1088 rows x 13 columns]"
      ]
     },
     "execution_count": 44,
     "metadata": {},
     "output_type": "execute_result"
    }
   ],
   "source": [
    "X_test"
   ]
  },
  {
   "cell_type": "code",
   "execution_count": 63,
   "id": "a2e96062-e733-4b6e-a232-b763f60628d2",
   "metadata": {},
   "outputs": [],
   "source": [
    "sample_test_data = (\n",
    "    [-2.129593400176569,1.1849066767825516,1.7628064860351476,1.0124246820013965,-0.36700919693619644,-0.020404264959526158,0.7020515554689218,0.013825741747689578,-0.45627200709438126,1.593071043014108,1.068438486085228,-0.5379086043721599,3.116504948675754],\n",
    "    [0.7108480349279459,-1.1418847421296872,-0.8334101969015297,0.03941072989623649,-0.48706536800275385,-0.5366496288643218,-0.9247476589369766,0.17592872104642202,-0.4562809944176291,0.1821096748863234,1.068438486085228,-0.2923069712451033,-0.09386243625431016],\n",
    "    [0.5859019307444637,0.5313135815824847,-0.3889123416917233,-1.248112782485339,-0.6471402627581637,-0.6110633750127608,-0.027191045978984488,-0.2346780993589682,-0.4562911850644918,0.7464942221374372,-0.9359453192892858,0.26257079248639487,-0.09386243625431016],\n",
    "    [0.569242450186666,-0.27260592551359786,-0.5728040578044302,0.8699125375011455,0.5934401715962629,-0.44177210252506205,0.11809052185077308,-0.6349000750360065,-0.4562911850644918,1.310878769388551,-0.9359453192892858,0.141286035386614,-0.09386243625431016],\n",
    ")"
   ]
  },
  {
   "cell_type": "code",
   "execution_count": 64,
   "id": "fa9a4e99-1497-47b4-9cde-8e66ffec2939",
   "metadata": {},
   "outputs": [
    {
     "data": {
      "text/plain": [
       "[0.7108480349279459,\n",
       " -1.1418847421296872,\n",
       " -0.8334101969015297,\n",
       " 0.03941072989623649,\n",
       " -0.48706536800275385,\n",
       " -0.5366496288643218,\n",
       " -0.9247476589369766,\n",
       " 0.17592872104642202,\n",
       " -0.4562809944176291,\n",
       " 0.1821096748863234,\n",
       " 1.068438486085228,\n",
       " -0.2923069712451033,\n",
       " -0.09386243625431016]"
      ]
     },
     "execution_count": 64,
     "metadata": {},
     "output_type": "execute_result"
    }
   ],
   "source": [
    "sample_test_data[1]"
   ]
  },
  {
   "cell_type": "code",
   "execution_count": 59,
   "id": "9162dab1-892b-4531-8f44-fe88e36c49ab",
   "metadata": {},
   "outputs": [],
   "source": [
    "# type(X_train)\n",
    "\n",
    "check = [0.25081682, 0.23232518, 0, 0.45904428, 2306.2140201710604, 2567.4344222611962, 0.23232518, 154647.48299319728, 5147.019054330947, 0.4650071, 0.01960037, 20.187504983722118, 0]"
   ]
  },
  {
   "cell_type": "code",
   "execution_count": 60,
   "id": "79660121-9745-4d7a-b7d9-3bd46632ff70",
   "metadata": {},
   "outputs": [],
   "source": [
    "input_data = np.asarray(X_test.loc[4515,:])"
   ]
  },
  {
   "cell_type": "code",
   "execution_count": 61,
   "id": "f738ab31-1345-4776-9b82-6e34b5b8502c",
   "metadata": {},
   "outputs": [
    {
     "data": {
      "text/plain": [
       "array([-0.76388986, -1.48164056,  0.00970622, -1.28755332, -1.25529427,\n",
       "       -0.92752355, -1.46640386,  2.10746685,  1.35767957, -1.30846547,\n",
       "        1.35080544, -0.44918279, -0.02737592])"
      ]
     },
     "execution_count": 61,
     "metadata": {},
     "output_type": "execute_result"
    }
   ],
   "source": [
    "input_data"
   ]
  },
  {
   "cell_type": "code",
   "execution_count": 65,
   "id": "39f819c2-e4fb-4661-9fa8-cb90b4f8ad2e",
   "metadata": {},
   "outputs": [
    {
     "data": {
      "text/plain": [
       "False"
      ]
     },
     "execution_count": 65,
     "metadata": {},
     "output_type": "execute_result"
    }
   ],
   "source": [
    "X_test.head()\n",
    "\n",
    "X_ = np.asarray(X_test)\n",
    "sample_test_data[3] in X_"
   ]
  },
  {
   "cell_type": "code",
   "execution_count": 66,
   "id": "9b34095a-0f9d-40b0-8859-a8de5536d0da",
   "metadata": {},
   "outputs": [
    {
     "data": {
      "text/plain": [
       "sklearn.ensemble._forest.RandomForestClassifier"
      ]
     },
     "execution_count": 66,
     "metadata": {},
     "output_type": "execute_result"
    }
   ],
   "source": [
    "type(model_1)"
   ]
  },
  {
   "cell_type": "code",
   "execution_count": 71,
   "id": "fd83c5a3-d875-485f-bca2-f5f85fe4358a",
   "metadata": {},
   "outputs": [
    {
     "data": {
      "text/plain": [
       "array([2.50816820e-01, 2.32325180e-01, 0.00000000e+00, 4.59044280e-01,\n",
       "       2.30621402e+03, 2.56743442e+03, 2.32325180e-01, 1.54647483e+05,\n",
       "       5.14701905e+03, 4.65007100e-01, 1.96003700e-02, 2.01875050e+01,\n",
       "       0.00000000e+00])"
      ]
     },
     "execution_count": 71,
     "metadata": {},
     "output_type": "execute_result"
    }
   ],
   "source": [
    "check_ = np.asarray(check)\n",
    "check_"
   ]
  },
  {
   "cell_type": "code",
   "execution_count": 72,
   "id": "c7a69f55-840a-4086-88e4-2d25617ad9f8",
   "metadata": {},
   "outputs": [],
   "source": [
    "reshape_check = check_.reshape(1, -1)\n",
    "\n",
    "pred_ = model_1.predict(reshape_check)"
   ]
  },
  {
   "cell_type": "code",
   "execution_count": 73,
   "id": "084f72a2-52c7-4074-971a-fbf0f7e90a85",
   "metadata": {},
   "outputs": [
    {
     "data": {
      "text/plain": [
       "array([0], dtype=int64)"
      ]
     },
     "execution_count": 73,
     "metadata": {},
     "output_type": "execute_result"
    }
   ],
   "source": [
    "pred_"
   ]
  },
  {
   "cell_type": "code",
   "execution_count": 67,
   "id": "e9259715-a378-4a3f-acbc-fe09f1724f39",
   "metadata": {},
   "outputs": [],
   "source": [
    "reshaped_input_data = input_data.reshape(1, -1) \n",
    "\n",
    "new_pred = model_1.predict(reshaped_input_data)"
   ]
  },
  {
   "cell_type": "raw",
   "id": "3c918a6e-087e-4781-a589-3ccaf2966c98",
   "metadata": {},
   "source": [
    "new_pred"
   ]
  },
  {
   "cell_type": "code",
   "execution_count": 68,
   "id": "1e8b3c1a-ab60-42cb-a656-ef8bc6ee3e78",
   "metadata": {},
   "outputs": [
    {
     "data": {
      "text/plain": [
       "3204    1\n",
       "4515    1\n",
       "2146    0\n",
       "3105    1\n",
       "881     1\n",
       "       ..\n",
       "1941    0\n",
       "1041    1\n",
       "1634    0\n",
       "2462    0\n",
       "2809    0\n",
       "Name: hit, Length: 1088, dtype: int64"
      ]
     },
     "execution_count": 68,
     "metadata": {},
     "output_type": "execute_result"
    }
   ],
   "source": [
    "y_test"
   ]
  },
  {
   "cell_type": "code",
   "execution_count": 69,
   "id": "f0a459ee-4681-47e1-ba3a-8aba6ef1a00e",
   "metadata": {},
   "outputs": [
    {
     "data": {
      "text/plain": [
       "array([1], dtype=int64)"
      ]
     },
     "execution_count": 69,
     "metadata": {},
     "output_type": "execute_result"
    }
   ],
   "source": [
    "new_pred"
   ]
  },
  {
   "cell_type": "code",
   "execution_count": 772,
   "id": "fdf02749-69d6-453f-bf65-de47b25388e0",
   "metadata": {},
   "outputs": [
    {
     "name": "stdout",
     "output_type": "stream",
     "text": [
      "[1] [[-0.76388986 -1.48164056  0.00970622 -1.28755332 -1.25529427 -0.92752355\n",
      "  -1.46640386  2.10746685  1.35767957 -1.30846547  1.35080544 -0.44918279\n",
      "  -0.02737592]]\n"
     ]
    }
   ],
   "source": [
    "print(new_pred ,reshaped_input_data)"
   ]
  },
  {
   "cell_type": "code",
   "execution_count": 70,
   "id": "25cf66a9-fbc0-4252-99a7-e00bb215b505",
   "metadata": {},
   "outputs": [
    {
     "data": {
      "text/plain": [
       "array([ True])"
      ]
     },
     "execution_count": 70,
     "metadata": {},
     "output_type": "execute_result"
    }
   ],
   "source": [
    "y_test_list = list(y_test)\n",
    "\n",
    "\n",
    "\n",
    "new_pred == y_test_list[3]\n"
   ]
  },
  {
   "cell_type": "code",
   "execution_count": 726,
   "id": "3d00c86b-e231-4069-80f8-d82e5238ae1c",
   "metadata": {},
   "outputs": [],
   "source": [
    "import joblib"
   ]
  },
  {
   "cell_type": "code",
   "execution_count": 720,
   "id": "f82798a1-4220-428e-b04d-819507938384",
   "metadata": {},
   "outputs": [],
   "source": [
    "logistic_model = LogisticRegression()\n",
    "logistic_model.fit(X_train, y_train)\n",
    "y_pred1 = logistic_model.predict(X_test)\n",
    "\n",
    "\n",
    "# Neural Network: 84.65%\n",
    "# Random Forest: 88.42%\n",
    "# Gradient Boosting: 80.70%\n",
    "# Decision Tree: 81.07%\n",
    "\n",
    "knn_model = KNeighborsClassifier()\n",
    "knn_model.fit(X_train, y_train)\n",
    "y_pred2 = logistic_model.predict(X_test)\n",
    "\n",
    "\n",
    "DT_model = DecisionTreeClassifier()\n",
    "DT_model.fit(X_train, y_train)\n",
    "y_pred3 = DT_model.predict(X_test)\n",
    "\n",
    "\n",
    "LSVC_model = LinearSVC()\n",
    "LSVC_model.fit(X_train, y_train)\n",
    "y_pred4 = LSVC_model.predict(X_test)\n",
    "\n",
    "\n",
    "svc_model = SVC()  \n",
    "svc_model.fit(X_train, y_train)\n",
    "y_pred5 = svc_model.predict(X_test)\n",
    "\n",
    "\n",
    "# mplMLPClassifier()\n",
    "RFC_model = RandomForestClassifier()\n",
    "RFC_model.fit(X_train, y_train)\n",
    "y_pred6 = RFC_model.predict(X_test)\n",
    "\n",
    "\n",
    "GBC_model = GradientBoostingClassifier() #Gradient\n",
    "GBC_model.fit(X_train, y_train)\n",
    "y_pred7 = GBC_model.predict(X_test)"
   ]
  },
  {
   "cell_type": "code",
   "execution_count": 733,
   "id": "4cd990bf-aada-4394-85fd-d112ea5df532",
   "metadata": {},
   "outputs": [
    {
     "data": {
      "text/plain": [
       "['radomF.pkl']"
      ]
     },
     "execution_count": 733,
     "metadata": {},
     "output_type": "execute_result"
    }
   ],
   "source": [
    "joblib.dump(value=RFC_model, filename='rfc_model.pkl')\n",
    "joblib.dump(value=DT_model, filename='dt_model.pkl')\n",
    "joblib.dump(value=GBC_model, filename='gbc_model.pkl')\n",
    "joblib.dump(value=model_1, filename='radomF.pkl')"
   ]
  },
  {
   "cell_type": "code",
   "execution_count": 1,
   "id": "cd2b8c67-4ad0-4f85-93d0-9f1affccab29",
   "metadata": {},
   "outputs": [
    {
     "ename": "NameError",
     "evalue": "name 'accuracy_score' is not defined",
     "output_type": "error",
     "traceback": [
      "\u001b[1;31m---------------------------------------------------------------------------\u001b[0m",
      "\u001b[1;31mNameError\u001b[0m                                 Traceback (most recent call last)",
      "Cell \u001b[1;32mIn[1], line 1\u001b[0m\n\u001b[1;32m----> 1\u001b[0m \u001b[38;5;28mprint\u001b[39m(\u001b[38;5;124mf\u001b[39m\u001b[38;5;124m\"\u001b[39m\u001b[38;5;132;01m{\u001b[39;00m(\u001b[43maccuracy_score\u001b[49m(y_test,\u001b[38;5;250m \u001b[39my_pred5)\u001b[38;5;250m \u001b[39m\u001b[38;5;241m*\u001b[39m\u001b[38;5;241m100\u001b[39m)\u001b[38;5;132;01m:\u001b[39;00m\u001b[38;5;124m.2f\u001b[39m\u001b[38;5;132;01m}\u001b[39;00m\u001b[38;5;124m%\u001b[39m\u001b[38;5;124m\"\u001b[39m)\n",
      "\u001b[1;31mNameError\u001b[0m: name 'accuracy_score' is not defined"
     ]
    }
   ],
   "source": [
    "print(f\"{(accuracy_score(y_test, y_pred5) *100):.2f}%\")"
   ]
  },
  {
   "cell_type": "code",
   "execution_count": 722,
   "id": "2de226fd-2db4-452e-853f-574f6fbaffdf",
   "metadata": {},
   "outputs": [],
   "source": [
    "from sklearn.metrics import precision_score, recall_score, f1_score, roc_auc_score"
   ]
  },
  {
   "cell_type": "code",
   "execution_count": 723,
   "id": "a8cfccb3-8c9e-49b6-9859-db8bcbae8778",
   "metadata": {},
   "outputs": [
    {
     "name": "stdout",
     "output_type": "stream",
     "text": [
      "Precision: 0.77\n",
      "f1: 0.82\n",
      "recall: 0.82\n",
      "roc_auc: 0.81\n",
      "Acc: 0.81\n"
     ]
    }
   ],
   "source": [
    "precision = precision_score(y_test, y_pred7)\n",
    "\n",
    "acc = accuracy_score(y_test, y_pred7)\n",
    "\n",
    "f1 = f1_score(y_test, y_pred7)\n",
    "\n",
    "recall = f1_score(y_test, y_pred7)\n",
    "\n",
    "roc_auc = roc_auc_score(y_test, y_pred7)\n",
    "\n",
    "\n",
    "print(f\"Precision: {precision:.2f}\")\n",
    "print(f\"f1: {f1:.2f}\")\n",
    "print(f\"recall: {recall:.2f}\")\n",
    "print(f\"roc_auc: {roc_auc:.2f}\")\n",
    "print(f\"Acc: {acc:.2f}\")"
   ]
  },
  {
   "cell_type": "code",
   "execution_count": 735,
   "id": "038e4af9-f8fa-45d5-868b-f2e956d29d21",
   "metadata": {},
   "outputs": [
    {
     "data": {
      "text/html": [
       "<div>\n",
       "<style scoped>\n",
       "    .dataframe tbody tr th:only-of-type {\n",
       "        vertical-align: middle;\n",
       "    }\n",
       "\n",
       "    .dataframe tbody tr th {\n",
       "        vertical-align: top;\n",
       "    }\n",
       "\n",
       "    .dataframe thead th {\n",
       "        text-align: right;\n",
       "    }\n",
       "</style>\n",
       "<table border=\"1\" class=\"dataframe\">\n",
       "  <thead>\n",
       "    <tr style=\"text-align: right;\">\n",
       "      <th></th>\n",
       "      <th>danceability</th>\n",
       "      <th>energy</th>\n",
       "      <th>tempo</th>\n",
       "      <th>valence</th>\n",
       "      <th>acousticness</th>\n",
       "      <th>liveness</th>\n",
       "      <th>loudness</th>\n",
       "      <th>duration_ms</th>\n",
       "      <th>instrumentalness</th>\n",
       "      <th>key</th>\n",
       "      <th>mode</th>\n",
       "      <th>speechiness</th>\n",
       "      <th>time_signature</th>\n",
       "    </tr>\n",
       "  </thead>\n",
       "  <tbody>\n",
       "    <tr>\n",
       "      <th>1643</th>\n",
       "      <td>0.891064</td>\n",
       "      <td>-1.537942</td>\n",
       "      <td>-0.196980</td>\n",
       "      <td>0.178425</td>\n",
       "      <td>1.977715</td>\n",
       "      <td>-0.352072</td>\n",
       "      <td>-1.184655</td>\n",
       "      <td>-0.353283</td>\n",
       "      <td>-0.185305</td>\n",
       "      <td>-0.073528</td>\n",
       "      <td>-0.740299</td>\n",
       "      <td>-0.622507</td>\n",
       "      <td>-0.027376</td>\n",
       "    </tr>\n",
       "    <tr>\n",
       "      <th>596</th>\n",
       "      <td>0.552773</td>\n",
       "      <td>0.091198</td>\n",
       "      <td>-0.568255</td>\n",
       "      <td>-0.726422</td>\n",
       "      <td>0.360050</td>\n",
       "      <td>0.379134</td>\n",
       "      <td>1.123450</td>\n",
       "      <td>-0.721761</td>\n",
       "      <td>-0.371511</td>\n",
       "      <td>0.235206</td>\n",
       "      <td>1.350805</td>\n",
       "      <td>-0.985716</td>\n",
       "      <td>-0.027376</td>\n",
       "    </tr>\n",
       "    <tr>\n",
       "      <th>4647</th>\n",
       "      <td>0.464011</td>\n",
       "      <td>-0.087657</td>\n",
       "      <td>-0.459090</td>\n",
       "      <td>-0.716391</td>\n",
       "      <td>-0.014831</td>\n",
       "      <td>-0.653194</td>\n",
       "      <td>0.021530</td>\n",
       "      <td>-0.339585</td>\n",
       "      <td>-0.340382</td>\n",
       "      <td>-1.308465</td>\n",
       "      <td>1.350805</td>\n",
       "      <td>-0.817351</td>\n",
       "      <td>-0.027376</td>\n",
       "    </tr>\n",
       "    <tr>\n",
       "      <th>1615</th>\n",
       "      <td>-2.190124</td>\n",
       "      <td>-0.782613</td>\n",
       "      <td>0.874548</td>\n",
       "      <td>-0.709870</td>\n",
       "      <td>2.393127</td>\n",
       "      <td>0.507589</td>\n",
       "      <td>0.263284</td>\n",
       "      <td>-0.405617</td>\n",
       "      <td>-0.371668</td>\n",
       "      <td>-1.308465</td>\n",
       "      <td>-0.740299</td>\n",
       "      <td>2.907494</td>\n",
       "      <td>3.814084</td>\n",
       "    </tr>\n",
       "    <tr>\n",
       "      <th>2687</th>\n",
       "      <td>-1.614116</td>\n",
       "      <td>-1.360218</td>\n",
       "      <td>0.415946</td>\n",
       "      <td>0.735678</td>\n",
       "      <td>-0.358368</td>\n",
       "      <td>-0.193974</td>\n",
       "      <td>-0.887151</td>\n",
       "      <td>-0.542570</td>\n",
       "      <td>-0.371655</td>\n",
       "      <td>-1.617200</td>\n",
       "      <td>1.350805</td>\n",
       "      <td>-0.176556</td>\n",
       "      <td>3.814084</td>\n",
       "    </tr>\n",
       "  </tbody>\n",
       "</table>\n",
       "</div>"
      ],
      "text/plain": [
       "      danceability    energy     tempo   valence  acousticness  liveness  \\\n",
       "1643      0.891064 -1.537942 -0.196980  0.178425      1.977715 -0.352072   \n",
       "596       0.552773  0.091198 -0.568255 -0.726422      0.360050  0.379134   \n",
       "4647      0.464011 -0.087657 -0.459090 -0.716391     -0.014831 -0.653194   \n",
       "1615     -2.190124 -0.782613  0.874548 -0.709870      2.393127  0.507589   \n",
       "2687     -1.614116 -1.360218  0.415946  0.735678     -0.358368 -0.193974   \n",
       "\n",
       "      loudness  duration_ms  instrumentalness       key      mode  \\\n",
       "1643 -1.184655    -0.353283         -0.185305 -0.073528 -0.740299   \n",
       "596   1.123450    -0.721761         -0.371511  0.235206  1.350805   \n",
       "4647  0.021530    -0.339585         -0.340382 -1.308465  1.350805   \n",
       "1615  0.263284    -0.405617         -0.371668 -1.308465 -0.740299   \n",
       "2687 -0.887151    -0.542570         -0.371655 -1.617200  1.350805   \n",
       "\n",
       "      speechiness  time_signature  \n",
       "1643    -0.622507       -0.027376  \n",
       "596     -0.985716       -0.027376  \n",
       "4647    -0.817351       -0.027376  \n",
       "1615     2.907494        3.814084  \n",
       "2687    -0.176556        3.814084  "
      ]
     },
     "execution_count": 735,
     "metadata": {},
     "output_type": "execute_result"
    }
   ],
   "source": [
    "X_train.head()"
   ]
  },
  {
   "cell_type": "code",
   "execution_count": 741,
   "id": "c5f8cf6d-14ee-4187-bf97-fd9cefd4923c",
   "metadata": {},
   "outputs": [
    {
     "data": {
      "text/plain": [
       "Index(['danceability', 'energy', 'tempo', 'valence', 'acousticness',\n",
       "       'liveness', 'loudness', 'duration_ms', 'instrumentalness', 'key',\n",
       "       'mode', 'speechiness', 'time_signature'],\n",
       "      dtype='object')"
      ]
     },
     "execution_count": 741,
     "metadata": {},
     "output_type": "execute_result"
    }
   ],
   "source": [
    "# ['danceability', 'energy', 'tempo', 'valence', 'acousticness',\n",
    "#        'liveness', 'loudness', 'duration_ms', 'instrumentalness', 'key',\n",
    "#        'mode', 'speechiness', 'time_signature']\n",
    "\n",
    "X_test.columns"
   ]
  },
  {
   "cell_type": "code",
   "execution_count": null,
   "id": "1f8140cb-b853-4201-8191-08d498710b9a",
   "metadata": {},
   "outputs": [],
   "source": []
  }
 ],
 "metadata": {
  "kernelspec": {
   "display_name": "Python 3 (ipykernel)",
   "language": "python",
   "name": "python3"
  },
  "language_info": {
   "codemirror_mode": {
    "name": "ipython",
    "version": 3
   },
   "file_extension": ".py",
   "mimetype": "text/x-python",
   "name": "python",
   "nbconvert_exporter": "python",
   "pygments_lexer": "ipython3",
   "version": "3.10.7"
  }
 },
 "nbformat": 4,
 "nbformat_minor": 5
}
